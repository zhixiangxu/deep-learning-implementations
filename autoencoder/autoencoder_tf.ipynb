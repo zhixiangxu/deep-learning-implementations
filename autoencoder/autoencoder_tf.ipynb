{
 "cells": [
  {
   "cell_type": "code",
   "execution_count": 2,
   "metadata": {
    "collapsed": true
   },
   "outputs": [],
   "source": [
    "import tensorflow as tf\n",
    "from tensorflow.examples.tutorials.mnist import input_data"
   ]
  },
  {
   "cell_type": "code",
   "execution_count": 3,
   "metadata": {
    "collapsed": true
   },
   "outputs": [],
   "source": [
    "import numpy as np"
   ]
  },
  {
   "cell_type": "code",
   "execution_count": 4,
   "metadata": {
    "collapsed": true
   },
   "outputs": [],
   "source": [
    "import matplotlib\n",
    "matplotlib.use('AGG')\n",
    "import matplotlib.pyplot as plt\n",
    "import seaborn as sns\n",
    "sns.set_style(\"white\") \n",
    "\n",
    "# display plots in this notebook\n",
    "%matplotlib inline"
   ]
  },
  {
   "cell_type": "code",
   "execution_count": 5,
   "metadata": {},
   "outputs": [
    {
     "name": "stdout",
     "output_type": "stream",
     "text": [
      "Extracting MNIST_data/train-images-idx3-ubyte.gz\n",
      "Extracting MNIST_data/train-labels-idx1-ubyte.gz\n",
      "Extracting MNIST_data/t10k-images-idx3-ubyte.gz\n",
      "Extracting MNIST_data/t10k-labels-idx1-ubyte.gz\n"
     ]
    }
   ],
   "source": [
    "from tensorflow.examples.tutorials.mnist import input_data\n",
    "mnist = input_data.read_data_sets(\"MNIST_data/\", one_hot=True)"
   ]
  },
  {
   "cell_type": "markdown",
   "metadata": {},
   "source": [
    "## Naive autoencoder"
   ]
  },
  {
   "cell_type": "code",
   "execution_count": 68,
   "metadata": {
    "collapsed": true
   },
   "outputs": [],
   "source": [
    "tf.reset_default_graph()"
   ]
  },
  {
   "cell_type": "code",
   "execution_count": 69,
   "metadata": {
    "collapsed": true
   },
   "outputs": [],
   "source": [
    "input_dim = 784\n",
    "encoding_dim = 100\n",
    "batch_size = 128"
   ]
  },
  {
   "cell_type": "code",
   "execution_count": 70,
   "metadata": {},
   "outputs": [],
   "source": [
    "x = tf.placeholder(tf.float32, shape=[None, input_dim])"
   ]
  },
  {
   "cell_type": "code",
   "execution_count": 71,
   "metadata": {},
   "outputs": [],
   "source": [
    "with tf.variable_scope('encoder') as scope:\n",
    "    encoder_W = tf.get_variable('W', shape=[input_dim, encoding_dim], initializer=tf.contrib.layers.xavier_initializer())\n",
    "    encoder_b = tf.get_variable('b', shape=[encoding_dim], initializer=tf.zeros_initializer())\n",
    "    \n",
    "with tf.variable_scope('decoder') as scope:\n",
    "    decoder_W = tf.get_variable('W', shape=[encoding_dim, input_dim], initializer=tf.contrib.layers.xavier_initializer())\n",
    "    decoder_b = tf.get_variable('b', shape=[input_dim], initializer=tf.zeros_initializer())\n",
    "    \n",
    "encoded = tf.nn.relu(tf.matmul(x, encoder_W) + encoder_b)\n",
    "decoded = tf.nn.sigmoid(tf.matmul(encoded, decoder_W) + decoder_b)"
   ]
  },
  {
   "cell_type": "markdown",
   "metadata": {},
   "source": [
    "### use tf.layers \n",
    "\n",
    "encoded = tf.layers.dense(x, encoding_dim, activation=tf.nn.relu)\n",
    "decoded = tf.layers.dense(encoded, input_dim, activation=tf.nn.sigmoid)"
   ]
  },
  {
   "cell_type": "code",
   "execution_count": 74,
   "metadata": {},
   "outputs": [],
   "source": [
    "# loss = tf.nn.l2_loss(decoded - x)\n",
    "loss = tf.reduce_mean(tf.reduce_sum(tf.square(decoded - x), 1))"
   ]
  },
  {
   "cell_type": "code",
   "execution_count": 75,
   "metadata": {
    "collapsed": true
   },
   "outputs": [],
   "source": [
    "train = tf.train.AdamOptimizer().minimize(loss)"
   ]
  },
  {
   "cell_type": "code",
   "execution_count": 77,
   "metadata": {},
   "outputs": [
    {
     "name": "stdout",
     "output_type": "stream",
     "text": [
      "iter 0, train loss: 178.846802, test loss: 178.930542\n",
      "iter 500, train loss: 13.330675, test loss: 13.034096\n",
      "iter 1000, train loss: 6.977025, test loss: 6.756349\n",
      "iter 1500, train loss: 4.553848, test loss: 4.403613\n",
      "iter 2000, train loss: 3.453329, test loss: 3.351217\n",
      "iter 2500, train loss: 2.911509, test loss: 2.828223\n",
      "iter 3000, train loss: 2.570462, test loss: 2.498827\n",
      "iter 3500, train loss: 2.356742, test loss: 2.298432\n",
      "iter 4000, train loss: 2.215495, test loss: 2.166842\n",
      "iter 4500, train loss: 2.099191, test loss: 2.059192\n",
      "iter 5000, train loss: 2.002178, test loss: 1.971553\n"
     ]
    }
   ],
   "source": [
    "sess = tf.Session()\n",
    "sess.run(tf.global_variables_initializer())\n",
    "for i in range(5001):\n",
    "    batch_x, _ = mnist.train.next_batch(batch_size)\n",
    "    sess.run(train, feed_dict={x: batch_x})\n",
    "\n",
    "    if i % 500 == 0:\n",
    "        train_loss = sess.run(loss, feed_dict={x: mnist.train.images})\n",
    "        test_loss = sess.run(loss, feed_dict={x: mnist.test.images})\n",
    "\n",
    "        print 'iter %d, train loss: %f, test loss: %f' % (i, train_loss, test_loss)"
   ]
  },
  {
   "cell_type": "code",
   "execution_count": 78,
   "metadata": {},
   "outputs": [
    {
     "data": {
      "image/png": "[encoded data removed]",
      "text/plain": [
       "<matplotlib.figure.Figure at 0x1111ff550>"
      ]
     },
     "metadata": {},
     "output_type": "display_data"
    }
   ],
   "source": [
    "fig, fig_ax = plt.subplots(nrows=2, ncols=8, figsize=(12,3))\n",
    "for i in range(8):\n",
    "    random_image = mnist.test.images[np.random.randint(0, 10000, 1), :]\n",
    "    decoded_image = sess.run(decoded, feed_dict={x: random_image})\n",
    "    \n",
    "    plt.subplot(2,8,i+1)\n",
    "    plt.imshow(random_image.reshape((28,28)), cmap='gray')\n",
    "    plt.gca().set_xticks([])\n",
    "    plt.gca().set_yticks([])\n",
    "    \n",
    "    plt.subplot(2,8,i+9)\n",
    "    \n",
    "    plt.imshow(decoded_image.reshape((28,28)), cmap='gray')\n",
    "    plt.gca().set_xticks([])\n",
    "    plt.gca().set_yticks([])"
   ]
  },
  {
   "cell_type": "code",
   "execution_count": 79,
   "metadata": {
    "collapsed": true
   },
   "outputs": [],
   "source": [
    "sess.close()"
   ]
  },
  {
   "cell_type": "markdown",
   "metadata": {},
   "source": [
    "### write autoencoder as a class"
   ]
  },
  {
   "cell_type": "code",
   "execution_count": 5,
   "metadata": {
    "collapsed": true
   },
   "outputs": [],
   "source": [
    "class Autoencoder():\n",
    "    def __init__(self, input_dim, encoding_dim, activation_func=tf.nn.relu, optimizer=tf.train.AdamOptimizer()):\n",
    "        self.graph = tf.Graph()\n",
    "        with self.graph.as_default():     \n",
    "            self.global_step = tf.Variable(0, name='global_step', trainable=False)\n",
    "\n",
    "            self.x = tf.placeholder(tf.float32, shape=[None, input_dim])\n",
    "            self.encoded = tf.layers.dense(self.x, encoding_dim, activation=tf.nn.relu)\n",
    "            self.decoded = tf.layers.dense(self.encoded, input_dim, activation=tf.nn.sigmoid)\n",
    "\n",
    "            self.loss = tf.reduce_mean(tf.reduce_sum(tf.square(self.decoded - self.x), 1))\n",
    "            self.train = optimizer.minimize(self.loss, global_step=self.global_step)\n",
    "            \n",
    "            self.saver = tf.train.Saver()\n",
    "            \n",
    "            self.init = tf.global_variables_initializer()\n",
    "        \n",
    "        self.sess = tf.Session(graph=self.graph)\n",
    "        self.sess.run(self.init)\n",
    "        \n",
    "    def partial_fit(self, x):\n",
    "        loss, _ = self.sess.run([self.loss, self.train], feed_dict={self.x: x})\n",
    "        \n",
    "    def fit(self, x, batch_size=32, epochs=1, validation_data=None):\n",
    "        pass\n",
    "    \n",
    "    def evaluate(self, x):\n",
    "        return self.sess.run(self.loss, feed_dict={self.x: x})\n",
    "        \n",
    "    def predict(self, x):\n",
    "        return self.sess.run(self.decoded, feed_dict={self.x: x})\n",
    "    \n",
    "    def save(self, save_path, global_step=False):\n",
    "        if global_step:\n",
    "            self.saver.save(self.sess, save_path, self.global_step)\n",
    "        else:\n",
    "            self.saver.save(self.sess, save_path)\n",
    "        \n",
    "    def load_weights(self, save_path, latest_checkpoint=False):\n",
    "        if latest_checkpoint:\n",
    "            self.saver.restore(self.sess, tf.train.latest_checkpoint(save_path))\n",
    "        else:\n",
    "            self.saver.restore(self.sess, save_path)"
   ]
  },
  {
   "cell_type": "code",
   "execution_count": 6,
   "metadata": {
    "scrolled": false
   },
   "outputs": [],
   "source": [
    "autoencoder = Autoencoder(input_dim=784, encoding_dim=100)"
   ]
  },
  {
   "cell_type": "code",
   "execution_count": 9,
   "metadata": {},
   "outputs": [
    {
     "name": "stdout",
     "output_type": "stream",
     "text": [
      "iter 0, train loss: 178.657257, test loss: 178.755432\n",
      "iter 500, train loss: 12.999808, test loss: 12.726765\n",
      "iter 1000, train loss: 6.926361, test loss: 6.733581\n",
      "iter 1500, train loss: 4.507756, test loss: 4.369510\n",
      "iter 2000, train loss: 3.427318, test loss: 3.323860\n",
      "iter 2500, train loss: 2.892864, test loss: 2.816402\n",
      "iter 3000, train loss: 2.546827, test loss: 2.483048\n",
      "iter 3500, train loss: 2.338739, test loss: 2.287159\n",
      "iter 4000, train loss: 2.158178, test loss: 2.115149\n",
      "iter 4500, train loss: 2.063225, test loss: 2.024794\n",
      "iter 5000, train loss: 1.976449, test loss: 1.944800\n"
     ]
    }
   ],
   "source": [
    "batch_size = 128\n",
    "for i in range(5001):\n",
    "    batch_x, _ = mnist.train.next_batch(batch_size)\n",
    "    autoencoder.partial_fit(batch_x)\n",
    "\n",
    "    if i % 500 == 0:\n",
    "        train_loss = autoencoder.evaluate(mnist.train.images)\n",
    "        test_loss = autoencoder.evaluate(mnist.test.images)\n",
    "\n",
    "        print 'iter %d, train loss: %f, test loss: %f' % (i, train_loss, test_loss)"
   ]
  },
  {
   "cell_type": "code",
   "execution_count": 11,
   "metadata": {
    "scrolled": false
   },
   "outputs": [
    {
     "data": {
      "image/png": "[encoded data removed]",
      "text/plain": [
       "<matplotlib.figure.Figure at 0x101c9ee10>"
      ]
     },
     "metadata": {},
     "output_type": "display_data"
    }
   ],
   "source": [
    "fig, fig_ax = plt.subplots(nrows=2, ncols=8, figsize=(12,3))\n",
    "for i in range(8):\n",
    "    random_image = mnist.test.images[np.random.randint(0, 10000, 1), :]\n",
    "    decoded_image = autoencoder.predict(random_image)\n",
    "    \n",
    "    plt.subplot(2,8,i+1)\n",
    "    plt.imshow(random_image.reshape((28,28)), cmap='gray')\n",
    "    plt.gca().set_xticks([])\n",
    "    plt.gca().set_yticks([])\n",
    "    \n",
    "    plt.subplot(2,8,i+9)\n",
    "    \n",
    "    plt.imshow(decoded_image.reshape((28,28)), cmap='gray')\n",
    "    plt.gca().set_xticks([])\n",
    "    plt.gca().set_yticks([])"
   ]
  },
  {
   "cell_type": "code",
   "execution_count": 137,
   "metadata": {},
   "outputs": [
    {
     "data": {
      "text/plain": [
       "True"
      ]
     },
     "execution_count": 137,
     "metadata": {},
     "output_type": "execute_result"
    }
   ],
   "source": [
    "autoencoder.sess.close()\n",
    "autoencoder.sess._closed"
   ]
  },
  {
   "cell_type": "code",
   "execution_count": 16,
   "metadata": {},
   "outputs": [
    {
     "data": {
      "text/plain": [
       "<tf.Tensor 'random_normal:0' shape=(?, 784) dtype=float32>"
      ]
     },
     "execution_count": 16,
     "metadata": {},
     "output_type": "execute_result"
    }
   ],
   "source": [
    "tf.random_normal(tf.shape(autoencoder.x))"
   ]
  },
  {
   "cell_type": "markdown",
   "metadata": {},
   "source": [
    "## denoising autoencoder"
   ]
  },
  {
   "cell_type": "code",
   "execution_count": 24,
   "metadata": {},
   "outputs": [],
   "source": [
    "class DenoisingAutoencoder():\n",
    "    def __init__(self, input_dim, encoding_dim, noise_scale=0.1, activation_func=tf.nn.relu, optimizer=tf.train.AdamOptimizer()):\n",
    "        self.graph = tf.Graph()\n",
    "        with self.graph.as_default():     \n",
    "            self.global_step = tf.Variable(0, name='global_step', trainable=False)\n",
    "\n",
    "            self.x = tf.placeholder(tf.float32, shape=[None, input_dim])\n",
    "            self.x_noised = tf.clip_by_value(self.x + noise_scale * tf.random_normal(tf.shape(self.x)), 0, 1)\n",
    "            \n",
    "            self.encoded = tf.layers.dense(self.x_noised, encoding_dim, activation=tf.nn.relu)\n",
    "            self.decoded = tf.layers.dense(self.encoded, input_dim, activation=tf.nn.sigmoid)\n",
    "\n",
    "            self.loss = tf.reduce_mean(tf.reduce_sum(tf.square(self.decoded - self.x), 1))\n",
    "            self.train = optimizer.minimize(self.loss, global_step=self.global_step)\n",
    "            \n",
    "            self.saver = tf.train.Saver()\n",
    "            \n",
    "            self.init = tf.global_variables_initializer()\n",
    "        \n",
    "        self.sess = tf.Session(graph=self.graph)\n",
    "        self.sess.run(self.init)\n",
    "        \n",
    "    def partial_fit(self, x):\n",
    "        loss, _ = self.sess.run([self.loss, self.train], feed_dict={self.x: x})\n",
    "        \n",
    "    def fit(self, x, batch_size=32, epochs=1, validation_data=None):\n",
    "        pass\n",
    "    \n",
    "    def evaluate(self, x):\n",
    "        return self.sess.run(self.loss, feed_dict={self.x: x})\n",
    "        \n",
    "    def predict(self, x, output_denoised_input=False):\n",
    "        if output_denoised_input:\n",
    "            return self.sess.run([self.x_noised, self.decoded], feed_dict={self.x: x})\n",
    "        else:\n",
    "            return self.sess.run(self.decoded, feed_dict={self.x: x})\n",
    "    \n",
    "    def save(self, save_path, global_step=False):\n",
    "        if global_step:\n",
    "            self.saver.save(self.sess, save_path, self.global_step)\n",
    "        else:\n",
    "            self.saver.save(self.sess, save_path)\n",
    "        \n",
    "    def load_weights(self, save_path, latest_checkpoint=False):\n",
    "        if latest_checkpoint:\n",
    "            self.saver.restore(self.sess, tf.train.latest_checkpoint(save_path))\n",
    "        else:\n",
    "            self.saver.restore(self.sess, save_path)"
   ]
  },
  {
   "cell_type": "code",
   "execution_count": 25,
   "metadata": {
    "collapsed": true
   },
   "outputs": [],
   "source": [
    "autoencoder = DenoisingAutoencoder(input_dim=784, encoding_dim=100, noise_scale=0.3)"
   ]
  },
  {
   "cell_type": "code",
   "execution_count": 26,
   "metadata": {},
   "outputs": [
    {
     "name": "stdout",
     "output_type": "stream",
     "text": [
      "iter 0, train loss: 178.598694, test loss: 178.651428\n",
      "iter 500, train loss: 16.723925, test loss: 16.368670\n",
      "iter 1000, train loss: 10.872842, test loss: 10.593214\n",
      "iter 1500, train loss: 8.825441, test loss: 8.577472\n",
      "iter 2000, train loss: 7.726972, test loss: 7.516798\n",
      "iter 2500, train loss: 7.120375, test loss: 6.982357\n",
      "iter 3000, train loss: 6.740606, test loss: 6.588512\n",
      "iter 3500, train loss: 6.475552, test loss: 6.338415\n",
      "iter 4000, train loss: 6.274497, test loss: 6.157609\n",
      "iter 4500, train loss: 6.112988, test loss: 5.989004\n",
      "iter 5000, train loss: 5.993906, test loss: 5.872044\n"
     ]
    }
   ],
   "source": [
    "batch_size = 128\n",
    "for i in range(5001):\n",
    "    batch_x, _ = mnist.train.next_batch(batch_size)\n",
    "    autoencoder.partial_fit(batch_x)\n",
    "\n",
    "    if i % 500 == 0:\n",
    "        train_loss = autoencoder.evaluate(mnist.train.images)\n",
    "        test_loss = autoencoder.evaluate(mnist.test.images)\n",
    "\n",
    "        print 'iter %d, train loss: %f, test loss: %f' % (i, train_loss, test_loss)"
   ]
  },
  {
   "cell_type": "code",
   "execution_count": 27,
   "metadata": {},
   "outputs": [
    {
     "data": {
      "image/png": "[encoded data removed]",
      "text/plain": [
       "<matplotlib.figure.Figure at 0x1166aa510>"
      ]
     },
     "metadata": {},
     "output_type": "display_data"
    }
   ],
   "source": [
    "fig, fig_ax = plt.subplots(nrows=2, ncols=8, figsize=(12,3))\n",
    "for i in range(8):\n",
    "    random_image = mnist.test.images[np.random.randint(0, 10000, 1), :]\n",
    "    noisy_image, decoded_image = autoencoder.predict(random_image, output_denoised_input=True)\n",
    "    \n",
    "    plt.subplot(2,8,i+1)\n",
    "    plt.imshow(noisy_image.reshape((28,28)), cmap='gray')\n",
    "    plt.gca().set_xticks([])\n",
    "    plt.gca().set_yticks([])\n",
    "    \n",
    "    plt.subplot(2,8,i+9)\n",
    "    \n",
    "    plt.imshow(decoded_image.reshape((28,28)), cmap='gray')\n",
    "    plt.gca().set_xticks([])\n",
    "    plt.gca().set_yticks([])"
   ]
  },
  {
   "cell_type": "code",
   "execution_count": 28,
   "metadata": {},
   "outputs": [],
   "source": [
    "autoencoder.save('save/autoencoder_tf/denoising_autoencoder')"
   ]
  },
  {
   "cell_type": "code",
   "execution_count": 29,
   "metadata": {
    "collapsed": true
   },
   "outputs": [],
   "source": [
    "autoencoder.sess.close()"
   ]
  },
  {
   "cell_type": "code",
   "execution_count": 30,
   "metadata": {},
   "outputs": [
    {
     "name": "stdout",
     "output_type": "stream",
     "text": [
      "INFO:tensorflow:Restoring parameters from save/autoencoder_tf/denoising_autoencoder\n"
     ]
    }
   ],
   "source": [
    "autoencoder2 = DenoisingAutoencoder(input_dim=784, encoding_dim=100, noise_scale=0.3)\n",
    "autoencoder2.load_weights('save/autoencoder_tf/denoising_autoencoder')"
   ]
  },
  {
   "cell_type": "code",
   "execution_count": 31,
   "metadata": {},
   "outputs": [
    {
     "data": {
      "image/png": "[encoded data removed]",
      "text/plain": [
       "<matplotlib.figure.Figure at 0x1165dca50>"
      ]
     },
     "metadata": {},
     "output_type": "display_data"
    }
   ],
   "source": [
    "fig, fig_ax = plt.subplots(nrows=2, ncols=8, figsize=(12,3))\n",
    "for i in range(8):\n",
    "    random_image = mnist.test.images[np.random.randint(0, 10000, 1), :]\n",
    "    noisy_image, decoded_image = autoencoder2.predict(random_image, output_denoised_input=True)\n",
    "    \n",
    "    plt.subplot(2,8,i+1)\n",
    "    plt.imshow(noisy_image.reshape((28,28)), cmap='gray')\n",
    "    plt.gca().set_xticks([])\n",
    "    plt.gca().set_yticks([])\n",
    "    \n",
    "    plt.subplot(2,8,i+9)\n",
    "    \n",
    "    plt.imshow(decoded_image.reshape((28,28)), cmap='gray')\n",
    "    plt.gca().set_xticks([])\n",
    "    plt.gca().set_yticks([])"
   ]
  },
  {
   "cell_type": "markdown",
   "metadata": {},
   "source": [
    "## convolutional autoencoder"
   ]
  },
  {
   "cell_type": "code",
   "execution_count": 6,
   "metadata": {
    "collapsed": true
   },
   "outputs": [],
   "source": [
    "class ConvAutoencoder():\n",
    "    def __init__(self, input_dim, encoding_dim, num_filters=16, noise_scale=0.1, activation_func=tf.nn.relu, optimizer=tf.train.AdamOptimizer()):\n",
    "        self.graph = tf.Graph()\n",
    "        with self.graph.as_default():     \n",
    "            self.input_height = self.input_width = int(np.sqrt(input_dim))\n",
    "            \n",
    "            self.global_step = tf.Variable(0, name='global_step', trainable=False)\n",
    "            \n",
    "            self.x = tf.placeholder(tf.float32, shape=[None, input_dim])\n",
    "            self.encoder_h = tf.reshape(self.x, [-1, self.input_height, self.input_width, 1])\n",
    "            self.encoder_h = tf.layers.conv2d(self.encoder_h, num_filters, [3,3], padding='same', activation=tf.nn.relu)\n",
    "            self.encoded = tf.layers.max_pooling2d(self.encoder_h, [2,2], strides=2)\n",
    "            \n",
    "            self.decoder_h = tf.layers.conv2d(self.encoded, num_filters, [3,3], padding='same', activation=tf.nn.relu)\n",
    "            self.decoder_h = tf.image.resize_images(self.decoder_h, [self.input_height, self.input_width])\n",
    "            self.decoder_h = tf.layers.conv2d(self.decoder_h, 1, [3,3], padding='same', activation=tf.nn.sigmoid)\n",
    "            self.decoded = tf.reshape(self.decoder_h, [-1, input_dim])\n",
    "\n",
    "            self.loss = tf.reduce_mean(tf.reduce_sum(tf.square(self.decoded - self.x), 1))\n",
    "            self.train = optimizer.minimize(self.loss, global_step=self.global_step)\n",
    "            \n",
    "            self.saver = tf.train.Saver()\n",
    "            \n",
    "            self.init = tf.global_variables_initializer()\n",
    "        \n",
    "        self.sess = tf.Session(graph=self.graph)\n",
    "        self.sess.run(self.init)\n",
    "        \n",
    "    def partial_fit(self, x):\n",
    "        loss, _ = self.sess.run([self.loss, self.train], feed_dict={self.x: x})\n",
    "        \n",
    "    def fit(self, x, batch_size=32, epochs=1, validation_data=None):\n",
    "        pass\n",
    "    \n",
    "    def evaluate(self, x):\n",
    "        return self.sess.run(self.loss, feed_dict={self.x: x})\n",
    "        \n",
    "    def predict(self, x):\n",
    "        return self.sess.run(self.decoded, feed_dict={self.x: x})\n",
    "    \n",
    "    def save(self, save_path, global_step=False):\n",
    "        if global_step:\n",
    "            self.saver.save(self.sess, save_path, self.global_step)\n",
    "        else:\n",
    "            self.saver.save(self.sess, save_path)\n",
    "        \n",
    "    def load_weights(self, save_path, latest_checkpoint=False):\n",
    "        if latest_checkpoint:\n",
    "            self.saver.restore(self.sess, tf.train.latest_checkpoint(save_path))\n",
    "        else:\n",
    "            self.saver.restore(self.sess, save_path)"
   ]
  },
  {
   "cell_type": "code",
   "execution_count": 7,
   "metadata": {},
   "outputs": [],
   "source": [
    "autoencoder = ConvAutoencoder(input_dim=784, encoding_dim=100, noise_scale=0.3)"
   ]
  },
  {
   "cell_type": "code",
   "execution_count": 9,
   "metadata": {
    "collapsed": true
   },
   "outputs": [
    {
     "name": "stdout",
     "output_type": "stream",
     "text": [
      "iter 0, train loss: 179.031067, test loss: 179.149323\n"
     ]
    },
    {
     "ename": "KeyboardInterrupt",
     "evalue": "",
     "output_type": "error",
     "traceback": [
      "\u001b[0;31m---------------------------------------------------------------------------\u001b[0m",
      "\u001b[0;31mKeyboardInterrupt\u001b[0m                         Traceback (most recent call last)",
      "\u001b[0;32m<ipython-input-9-fb12044df2ce>\u001b[0m in \u001b[0;36m<module>\u001b[0;34m()\u001b[0m\n\u001b[1;32m      5\u001b[0m \u001b[0;34m\u001b[0m\u001b[0m\n\u001b[1;32m      6\u001b[0m     \u001b[0;32mif\u001b[0m \u001b[0mi\u001b[0m \u001b[0;34m%\u001b[0m \u001b[0;36m20\u001b[0m \u001b[0;34m==\u001b[0m \u001b[0;36m0\u001b[0m\u001b[0;34m:\u001b[0m\u001b[0;34m\u001b[0m\u001b[0m\n\u001b[0;32m----> 7\u001b[0;31m         \u001b[0mtrain_loss\u001b[0m \u001b[0;34m=\u001b[0m \u001b[0mautoencoder\u001b[0m\u001b[0;34m.\u001b[0m\u001b[0mevaluate\u001b[0m\u001b[0;34m(\u001b[0m\u001b[0mmnist\u001b[0m\u001b[0;34m.\u001b[0m\u001b[0mtrain\u001b[0m\u001b[0;34m.\u001b[0m\u001b[0mimages\u001b[0m\u001b[0;34m)\u001b[0m\u001b[0;34m\u001b[0m\u001b[0m\n\u001b[0m\u001b[1;32m      8\u001b[0m         \u001b[0mtest_loss\u001b[0m \u001b[0;34m=\u001b[0m \u001b[0mautoencoder\u001b[0m\u001b[0;34m.\u001b[0m\u001b[0mevaluate\u001b[0m\u001b[0;34m(\u001b[0m\u001b[0mmnist\u001b[0m\u001b[0;34m.\u001b[0m\u001b[0mtest\u001b[0m\u001b[0;34m.\u001b[0m\u001b[0mimages\u001b[0m\u001b[0;34m)\u001b[0m\u001b[0;34m\u001b[0m\u001b[0m\n\u001b[1;32m      9\u001b[0m \u001b[0;34m\u001b[0m\u001b[0m\n",
      "\u001b[0;32m<ipython-input-6-6480f5591df2>\u001b[0m in \u001b[0;36mevaluate\u001b[0;34m(self, x)\u001b[0m\n\u001b[1;32m     34\u001b[0m \u001b[0;34m\u001b[0m\u001b[0m\n\u001b[1;32m     35\u001b[0m     \u001b[0;32mdef\u001b[0m \u001b[0mevaluate\u001b[0m\u001b[0;34m(\u001b[0m\u001b[0mself\u001b[0m\u001b[0;34m,\u001b[0m \u001b[0mx\u001b[0m\u001b[0;34m)\u001b[0m\u001b[0;34m:\u001b[0m\u001b[0;34m\u001b[0m\u001b[0m\n\u001b[0;32m---> 36\u001b[0;31m         \u001b[0;32mreturn\u001b[0m \u001b[0mself\u001b[0m\u001b[0;34m.\u001b[0m\u001b[0msess\u001b[0m\u001b[0;34m.\u001b[0m\u001b[0mrun\u001b[0m\u001b[0;34m(\u001b[0m\u001b[0mself\u001b[0m\u001b[0;34m.\u001b[0m\u001b[0mloss\u001b[0m\u001b[0;34m,\u001b[0m \u001b[0mfeed_dict\u001b[0m\u001b[0;34m=\u001b[0m\u001b[0;34m{\u001b[0m\u001b[0mself\u001b[0m\u001b[0;34m.\u001b[0m\u001b[0mx\u001b[0m\u001b[0;34m:\u001b[0m \u001b[0mx\u001b[0m\u001b[0;34m}\u001b[0m\u001b[0;34m)\u001b[0m\u001b[0;34m\u001b[0m\u001b[0m\n\u001b[0m\u001b[1;32m     37\u001b[0m \u001b[0;34m\u001b[0m\u001b[0m\n\u001b[1;32m     38\u001b[0m     \u001b[0;32mdef\u001b[0m \u001b[0mpredict\u001b[0m\u001b[0;34m(\u001b[0m\u001b[0mself\u001b[0m\u001b[0;34m,\u001b[0m \u001b[0mx\u001b[0m\u001b[0;34m)\u001b[0m\u001b[0;34m:\u001b[0m\u001b[0;34m\u001b[0m\u001b[0m\n",
      "\u001b[0;32m/Users/zzeng/Documents/Python/env/ml_env/lib/python2.7/site-packages/tensorflow/python/client/session.pyc\u001b[0m in \u001b[0;36mrun\u001b[0;34m(self, fetches, feed_dict, options, run_metadata)\u001b[0m\n\u001b[1;32m    787\u001b[0m     \u001b[0;32mtry\u001b[0m\u001b[0;34m:\u001b[0m\u001b[0;34m\u001b[0m\u001b[0m\n\u001b[1;32m    788\u001b[0m       result = self._run(None, fetches, feed_dict, options_ptr,\n\u001b[0;32m--> 789\u001b[0;31m                          run_metadata_ptr)\n\u001b[0m\u001b[1;32m    790\u001b[0m       \u001b[0;32mif\u001b[0m \u001b[0mrun_metadata\u001b[0m\u001b[0;34m:\u001b[0m\u001b[0;34m\u001b[0m\u001b[0m\n\u001b[1;32m    791\u001b[0m         \u001b[0mproto_data\u001b[0m \u001b[0;34m=\u001b[0m \u001b[0mtf_session\u001b[0m\u001b[0;34m.\u001b[0m\u001b[0mTF_GetBuffer\u001b[0m\u001b[0;34m(\u001b[0m\u001b[0mrun_metadata_ptr\u001b[0m\u001b[0;34m)\u001b[0m\u001b[0;34m\u001b[0m\u001b[0m\n",
      "\u001b[0;32m/Users/zzeng/Documents/Python/env/ml_env/lib/python2.7/site-packages/tensorflow/python/client/session.pyc\u001b[0m in \u001b[0;36m_run\u001b[0;34m(self, handle, fetches, feed_dict, options, run_metadata)\u001b[0m\n\u001b[1;32m    995\u001b[0m     \u001b[0;32mif\u001b[0m \u001b[0mfinal_fetches\u001b[0m \u001b[0;32mor\u001b[0m \u001b[0mfinal_targets\u001b[0m\u001b[0;34m:\u001b[0m\u001b[0;34m\u001b[0m\u001b[0m\n\u001b[1;32m    996\u001b[0m       results = self._do_run(handle, final_targets, final_fetches,\n\u001b[0;32m--> 997\u001b[0;31m                              feed_dict_string, options, run_metadata)\n\u001b[0m\u001b[1;32m    998\u001b[0m     \u001b[0;32melse\u001b[0m\u001b[0;34m:\u001b[0m\u001b[0;34m\u001b[0m\u001b[0m\n\u001b[1;32m    999\u001b[0m       \u001b[0mresults\u001b[0m \u001b[0;34m=\u001b[0m \u001b[0;34m[\u001b[0m\u001b[0;34m]\u001b[0m\u001b[0;34m\u001b[0m\u001b[0m\n",
      "\u001b[0;32m/Users/zzeng/Documents/Python/env/ml_env/lib/python2.7/site-packages/tensorflow/python/client/session.pyc\u001b[0m in \u001b[0;36m_do_run\u001b[0;34m(self, handle, target_list, fetch_list, feed_dict, options, run_metadata)\u001b[0m\n\u001b[1;32m   1130\u001b[0m     \u001b[0;32mif\u001b[0m \u001b[0mhandle\u001b[0m \u001b[0;32mis\u001b[0m \u001b[0mNone\u001b[0m\u001b[0;34m:\u001b[0m\u001b[0;34m\u001b[0m\u001b[0m\n\u001b[1;32m   1131\u001b[0m       return self._do_call(_run_fn, self._session, feed_dict, fetch_list,\n\u001b[0;32m-> 1132\u001b[0;31m                            target_list, options, run_metadata)\n\u001b[0m\u001b[1;32m   1133\u001b[0m     \u001b[0;32melse\u001b[0m\u001b[0;34m:\u001b[0m\u001b[0;34m\u001b[0m\u001b[0m\n\u001b[1;32m   1134\u001b[0m       return self._do_call(_prun_fn, self._session, handle, feed_dict,\n",
      "\u001b[0;32m/Users/zzeng/Documents/Python/env/ml_env/lib/python2.7/site-packages/tensorflow/python/client/session.pyc\u001b[0m in \u001b[0;36m_do_call\u001b[0;34m(self, fn, *args)\u001b[0m\n\u001b[1;32m   1137\u001b[0m   \u001b[0;32mdef\u001b[0m \u001b[0m_do_call\u001b[0m\u001b[0;34m(\u001b[0m\u001b[0mself\u001b[0m\u001b[0;34m,\u001b[0m \u001b[0mfn\u001b[0m\u001b[0;34m,\u001b[0m \u001b[0;34m*\u001b[0m\u001b[0margs\u001b[0m\u001b[0;34m)\u001b[0m\u001b[0;34m:\u001b[0m\u001b[0;34m\u001b[0m\u001b[0m\n\u001b[1;32m   1138\u001b[0m     \u001b[0;32mtry\u001b[0m\u001b[0;34m:\u001b[0m\u001b[0;34m\u001b[0m\u001b[0m\n\u001b[0;32m-> 1139\u001b[0;31m       \u001b[0;32mreturn\u001b[0m \u001b[0mfn\u001b[0m\u001b[0;34m(\u001b[0m\u001b[0;34m*\u001b[0m\u001b[0margs\u001b[0m\u001b[0;34m)\u001b[0m\u001b[0;34m\u001b[0m\u001b[0m\n\u001b[0m\u001b[1;32m   1140\u001b[0m     \u001b[0;32mexcept\u001b[0m \u001b[0merrors\u001b[0m\u001b[0;34m.\u001b[0m\u001b[0mOpError\u001b[0m \u001b[0;32mas\u001b[0m \u001b[0me\u001b[0m\u001b[0;34m:\u001b[0m\u001b[0;34m\u001b[0m\u001b[0m\n\u001b[1;32m   1141\u001b[0m       \u001b[0mmessage\u001b[0m \u001b[0;34m=\u001b[0m \u001b[0mcompat\u001b[0m\u001b[0;34m.\u001b[0m\u001b[0mas_text\u001b[0m\u001b[0;34m(\u001b[0m\u001b[0me\u001b[0m\u001b[0;34m.\u001b[0m\u001b[0mmessage\u001b[0m\u001b[0;34m)\u001b[0m\u001b[0;34m\u001b[0m\u001b[0m\n",
      "\u001b[0;32m/Users/zzeng/Documents/Python/env/ml_env/lib/python2.7/site-packages/tensorflow/python/client/session.pyc\u001b[0m in \u001b[0;36m_run_fn\u001b[0;34m(session, feed_dict, fetch_list, target_list, options, run_metadata)\u001b[0m\n\u001b[1;32m   1119\u001b[0m         return tf_session.TF_Run(session, options,\n\u001b[1;32m   1120\u001b[0m                                  \u001b[0mfeed_dict\u001b[0m\u001b[0;34m,\u001b[0m \u001b[0mfetch_list\u001b[0m\u001b[0;34m,\u001b[0m \u001b[0mtarget_list\u001b[0m\u001b[0;34m,\u001b[0m\u001b[0;34m\u001b[0m\u001b[0m\n\u001b[0;32m-> 1121\u001b[0;31m                                  status, run_metadata)\n\u001b[0m\u001b[1;32m   1122\u001b[0m \u001b[0;34m\u001b[0m\u001b[0m\n\u001b[1;32m   1123\u001b[0m     \u001b[0;32mdef\u001b[0m \u001b[0m_prun_fn\u001b[0m\u001b[0;34m(\u001b[0m\u001b[0msession\u001b[0m\u001b[0;34m,\u001b[0m \u001b[0mhandle\u001b[0m\u001b[0;34m,\u001b[0m \u001b[0mfeed_dict\u001b[0m\u001b[0;34m,\u001b[0m \u001b[0mfetch_list\u001b[0m\u001b[0;34m)\u001b[0m\u001b[0;34m:\u001b[0m\u001b[0;34m\u001b[0m\u001b[0m\n",
      "\u001b[0;31mKeyboardInterrupt\u001b[0m: "
     ]
    }
   ],
   "source": [
    "batch_size = 128\n",
    "for i in range(501):\n",
    "    batch_x, _ = mnist.train.next_batch(batch_size)\n",
    "    autoencoder.partial_fit(batch_x)\n",
    "\n",
    "    if i % 20 == 0:\n",
    "        train_loss = autoencoder.evaluate(mnist.train.images)\n",
    "        test_loss = autoencoder.evaluate(mnist.test.images)\n",
    "\n",
    "        print 'iter %d, train loss: %f, test loss: %f' % (i, train_loss, test_loss)"
   ]
  },
  {
   "cell_type": "markdown",
   "metadata": {},
   "source": [
    "## variational autoencoder"
   ]
  },
  {
   "cell_type": "code",
   "execution_count": 44,
   "metadata": {
    "collapsed": true
   },
   "outputs": [],
   "source": [
    "class VAE():\n",
    "    def __init__(self, input_dim, intermediate_dim, encoding_dim, activation_func=tf.nn.relu, optimizer=tf.train.AdamOptimizer()):\n",
    "        self.graph = tf.Graph()\n",
    "        with self.graph.as_default():     \n",
    "            self.input_dim = input_dim\n",
    "            self.intermediate_dim = intermediate_dim\n",
    "            self.encoding_dim = encoding_dim\n",
    "            \n",
    "            self.global_step = tf.Variable(0, name='global_step', trainable=False)\n",
    "\n",
    "            self.x = tf.placeholder(tf.float32, shape=[None, input_dim])\n",
    "            self.encoder_h = tf.layers.dense(self.x, intermediate_dim, activation=tf.nn.relu)\n",
    "            \n",
    "            self.z_mean = tf.layers.dense(self.encoder_h, encoding_dim, activation=tf.nn.relu)\n",
    "            self.z_log_sigma = tf.layers.dense(self.encoder_h, encoding_dim, activation=tf.nn.relu)\n",
    "            epsilon = tf.random_normal(tf.shape(self.z_mean))\n",
    "            self.z = self.z_mean + tf.exp(self.z_log_sigma) * epsilon\n",
    "            \n",
    "            self.decoder_h = tf.layers.dense(self.z, intermediate_dim, activation=tf.nn.relu)\n",
    "            self.decoder_x_mean = tf.layers.dense(self.decoder_h, input_dim, activation=tf.nn.sigmoid)\n",
    "\n",
    "            cross_entropy_loss = 0.5 * tf.reduce_sum(tf.square(self.decoder_x_mean - self.x), 1)\n",
    "            kl_div_loss = -0.5 * tf.reduce_sum(1 + self.z_log_sigma - tf.square(self.z_mean) - tf.exp(self.z_log_sigma), axis=1)\n",
    "            self.loss = tf.reduce_mean(cross_entropy_loss + kl_div_loss)\n",
    "            \n",
    "            self.train = optimizer.minimize(self.loss, global_step=self.global_step)\n",
    "            \n",
    "            self.saver = tf.train.Saver()\n",
    "            \n",
    "            self.init = tf.global_variables_initializer()\n",
    "        \n",
    "        self.sess = tf.Session(graph=self.graph)\n",
    "        self.sess.run(self.init)\n",
    "        \n",
    "    def partial_fit(self, x):\n",
    "        loss, _ = self.sess.run([self.loss, self.train], feed_dict={self.x: x})\n",
    "        \n",
    "    def fit(self, x, batch_size=32, epochs=1, validation_data=None):\n",
    "        pass\n",
    "    \n",
    "    def evaluate(self, x):\n",
    "        return self.sess.run(self.loss, feed_dict={self.x: x})\n",
    "        \n",
    "    def predict(self, x):\n",
    "        return self.sess.run(self.decoder_x_mean, feed_dict={self.x: x})\n",
    "    \n",
    "    def generate(self):\n",
    "        z_sample = np.random.normal(size=(1, self.encoding_dim))\n",
    "\n",
    "        return self.sess.run(self.decoder_x_mean, feed_dict={self.z: z_sample})\n",
    "    \n",
    "    def save(self, save_path, global_step=False):\n",
    "        if global_step:\n",
    "            self.saver.save(self.sess, save_path, self.global_step)\n",
    "        else:\n",
    "            self.saver.save(self.sess, save_path)\n",
    "        \n",
    "    def load_weights(self, save_path, latest_checkpoint=False):\n",
    "        if latest_checkpoint:\n",
    "            self.saver.restore(self.sess, tf.train.latest_checkpoint(save_path))\n",
    "        else:\n",
    "            self.saver.restore(self.sess, save_path)"
   ]
  },
  {
   "cell_type": "code",
   "execution_count": 45,
   "metadata": {
    "collapsed": true
   },
   "outputs": [],
   "source": [
    "vae = VAE(input_dim=784, intermediate_dim=200, encoding_dim=100)"
   ]
  },
  {
   "cell_type": "code",
   "execution_count": 47,
   "metadata": {},
   "outputs": [
    {
     "name": "stdout",
     "output_type": "stream",
     "text": [
      "iter 0, train loss: 24.564919, test loss: 24.596533\n",
      "iter 500, train loss: 24.352327, test loss: 24.342535\n",
      "iter 1000, train loss: 24.220596, test loss: 24.234760\n",
      "iter 1500, train loss: 24.162922, test loss: 24.155174\n",
      "iter 2000, train loss: 24.044586, test loss: 24.051941\n",
      "iter 2500, train loss: 23.959476, test loss: 23.976000\n",
      "iter 3000, train loss: 23.885210, test loss: 23.874107\n",
      "iter 3500, train loss: 23.824905, test loss: 23.809700\n",
      "iter 4000, train loss: 23.719234, test loss: 23.705162\n",
      "iter 4500, train loss: 23.617918, test loss: 23.616261\n",
      "iter 5000, train loss: 23.501663, test loss: 23.471193\n"
     ]
    }
   ],
   "source": [
    "batch_size = 128\n",
    "for i in range(5001):\n",
    "    batch_x, _ = mnist.train.next_batch(batch_size)\n",
    "    vae.partial_fit(batch_x)\n",
    "\n",
    "    if i % 500 == 0:\n",
    "        train_loss = vae.evaluate(mnist.train.images)\n",
    "        test_loss = vae.evaluate(mnist.test.images)\n",
    "\n",
    "        print 'iter %d, train loss: %f, test loss: %f' % (i, train_loss, test_loss)"
   ]
  },
  {
   "cell_type": "code",
   "execution_count": 48,
   "metadata": {},
   "outputs": [
    {
     "data": {
      "image/png": "[encoded data removed]",
      "text/plain": [
       "<matplotlib.figure.Figure at 0x134872a90>"
      ]
     },
     "metadata": {},
     "output_type": "display_data"
    }
   ],
   "source": [
    "fig, fig_ax = plt.subplots(nrows=2, ncols=8, figsize=(12,3))\n",
    "for i in range(8):\n",
    "    random_image = mnist.test.images[np.random.randint(0, 10000, 1), :]\n",
    "    decoded_image = vae.predict(random_image)\n",
    "    \n",
    "    plt.subplot(2,8,i+1)\n",
    "    plt.imshow(random_image.reshape((28,28)), cmap='gray')\n",
    "    plt.gca().set_xticks([])\n",
    "    plt.gca().set_yticks([])\n",
    "    \n",
    "    plt.subplot(2,8,i+9)\n",
    "    \n",
    "    plt.imshow(decoded_image.reshape((28,28)), cmap='gray')\n",
    "    plt.gca().set_xticks([])\n",
    "    plt.gca().set_yticks([])"
   ]
  },
  {
   "cell_type": "code",
   "execution_count": 49,
   "metadata": {},
   "outputs": [
    {
     "data": {
      "text/plain": [
       "[]"
      ]
     },
     "execution_count": 49,
     "metadata": {},
     "output_type": "execute_result"
    },
    {
     "data": {
      "image/png": "[encoded data removed]",
      "text/plain": [
       "<matplotlib.figure.Figure at 0x121af3e10>"
      ]
     },
     "metadata": {},
     "output_type": "display_data"
    }
   ],
   "source": [
    "plt.figure()\n",
    "plt.imshow(vae.generate().reshape((28,28)), cmap='gray')\n",
    "plt.gca().set_xticks([])\n",
    "plt.gca().set_yticks([])"
   ]
  },
  {
   "cell_type": "code",
   "execution_count": 50,
   "metadata": {
    "collapsed": true
   },
   "outputs": [],
   "source": [
    "vae.sess.close()"
   ]
  },
  {
   "cell_type": "markdown",
   "metadata": {},
   "source": [
    "## conditional VAE"
   ]
  },
  {
   "cell_type": "code",
   "execution_count": 51,
   "metadata": {
    "collapsed": true
   },
   "outputs": [],
   "source": [
    "class ConditionalVAE():\n",
    "    def __init__(self, input_dim, label_dim, intermediate_dim, encoding_dim, activation_func=tf.nn.relu, optimizer=tf.train.AdamOptimizer()):\n",
    "        self.graph = tf.Graph()\n",
    "        with self.graph.as_default():  \n",
    "            self.input_dim = input_dim\n",
    "            self.label_dim = label_dim\n",
    "            self.intermediate_dim = intermediate_dim\n",
    "            self.encoding_dim = encoding_dim\n",
    "            \n",
    "            self.global_step = tf.Variable(0, name='global_step', trainable=False)\n",
    "\n",
    "            self.x = tf.placeholder(tf.float32, shape=[None, input_dim])\n",
    "            self.y = tf.placeholder(tf.float32, shape=[None, label_dim])\n",
    "            self.encoder_input = tf.concat([self.x, self.y], axis=1)\n",
    "            self.encoder_h = tf.layers.dense(self.encoder_input, intermediate_dim, activation=tf.nn.relu)\n",
    "            \n",
    "            self.z_mean = tf.layers.dense(self.encoder_h, encoding_dim, activation=tf.nn.relu)\n",
    "            self.z_log_sigma = tf.layers.dense(self.encoder_h, encoding_dim, activation=tf.nn.relu)\n",
    "            epsilon = tf.random_normal(tf.shape(self.z_mean))\n",
    "            self.z = self.z_mean + tf.exp(self.z_log_sigma) * epsilon\n",
    "            \n",
    "            self.decoder_input = tf.concat([self.z, self.y], axis=1)\n",
    "            self.decoder_h = tf.layers.dense(self.decoder_input, intermediate_dim, activation=tf.nn.relu)\n",
    "            self.decoder_x_mean = tf.layers.dense(self.decoder_h, input_dim, activation=tf.nn.sigmoid)\n",
    "\n",
    "            cross_entropy_loss = 0.5 * tf.reduce_sum(tf.square(self.decoder_x_mean - self.x), 1)\n",
    "            kl_div_loss = -0.5 * tf.reduce_sum(1 + self.z_log_sigma - tf.square(self.z_mean) - tf.exp(self.z_log_sigma), axis=1)\n",
    "            self.loss = tf.reduce_mean(cross_entropy_loss + kl_div_loss)\n",
    "            \n",
    "            self.train = optimizer.minimize(self.loss, global_step=self.global_step)\n",
    "            \n",
    "            self.saver = tf.train.Saver()\n",
    "            \n",
    "            self.init = tf.global_variables_initializer()\n",
    "        \n",
    "        self.sess = tf.Session(graph=self.graph)\n",
    "        self.sess.run(self.init)\n",
    "        \n",
    "    def partial_fit(self, x, y):\n",
    "        loss, _ = self.sess.run([self.loss, self.train], feed_dict={self.x: x, self.y: y})\n",
    "        \n",
    "    def fit(self, x, batch_size=32, epochs=1, validation_data=None):\n",
    "        pass\n",
    "    \n",
    "    def evaluate(self, x, y):\n",
    "        return self.sess.run(self.loss, feed_dict={self.x: x, self.y: y})\n",
    "        \n",
    "    def predict(self, x, y):\n",
    "        return self.sess.run(self.decoder_x_mean, feed_dict={self.x: x, self.y: y})\n",
    "    \n",
    "    def generate(self, y):\n",
    "        z_sample = np.random.normal(size=(1, self.encoding_dim))\n",
    "\n",
    "        return self.sess.run(self.decoder_x_mean, feed_dict={self.y: y, self.z: z_sample})\n",
    "    \n",
    "    def save(self, save_path, global_step=False):\n",
    "        if global_step:\n",
    "            self.saver.save(self.sess, save_path, self.global_step)\n",
    "        else:\n",
    "            self.saver.save(self.sess, save_path)\n",
    "        \n",
    "    def load_weights(self, save_path, latest_checkpoint=False):\n",
    "        if latest_checkpoint:\n",
    "            self.saver.restore(self.sess, tf.train.latest_checkpoint(save_path))\n",
    "        else:\n",
    "            self.saver.restore(self.sess, save_path)"
   ]
  },
  {
   "cell_type": "code",
   "execution_count": 52,
   "metadata": {},
   "outputs": [],
   "source": [
    "vae = ConditionalVAE(input_dim=784, label_dim=10, intermediate_dim=200, encoding_dim=100)"
   ]
  },
  {
   "cell_type": "code",
   "execution_count": 53,
   "metadata": {},
   "outputs": [
    {
     "name": "stdout",
     "output_type": "stream",
     "text": [
      "iter 0, train loss: 92.517853, test loss: 92.614601\n",
      "iter 500, train loss: 22.096178, test loss: 21.989105\n",
      "iter 1000, train loss: 21.199018, test loss: 21.085653\n",
      "iter 1500, train loss: 20.899466, test loss: 20.735039\n",
      "iter 2000, train loss: 20.638849, test loss: 20.530983\n",
      "iter 2500, train loss: 20.365269, test loss: 20.219828\n",
      "iter 3000, train loss: 20.168455, test loss: 20.009113\n",
      "iter 3500, train loss: 19.995363, test loss: 19.900917\n",
      "iter 4000, train loss: 19.902369, test loss: 19.750334\n",
      "iter 4500, train loss: 19.812733, test loss: 19.666019\n",
      "iter 5000, train loss: 19.715862, test loss: 19.618422\n"
     ]
    }
   ],
   "source": [
    "batch_size = 128\n",
    "for i in range(5001):\n",
    "    batch_x, batch_y = mnist.train.next_batch(batch_size)\n",
    "    vae.partial_fit(batch_x, batch_y)\n",
    "\n",
    "    if i % 500 == 0:\n",
    "        train_loss = vae.evaluate(mnist.train.images, mnist.train.labels)\n",
    "        test_loss = vae.evaluate(mnist.test.images, mnist.test.labels)\n",
    "\n",
    "        print 'iter %d, train loss: %f, test loss: %f' % (i, train_loss, test_loss)"
   ]
  },
  {
   "cell_type": "code",
   "execution_count": 54,
   "metadata": {},
   "outputs": [
    {
     "data": {
      "image/png": "[encoded data removed]",
      "text/plain": [
       "<matplotlib.figure.Figure at 0x120785710>"
      ]
     },
     "metadata": {},
     "output_type": "display_data"
    }
   ],
   "source": [
    "fig, fig_ax = plt.subplots(nrows=2, ncols=8, figsize=(12,3))\n",
    "for i in range(8):\n",
    "    random_number = np.random.randint(0, 10000, 1)\n",
    "    image, label = mnist.test.images[random_number, :], mnist.test.labels[random_number, :]\n",
    "    decoded_image = vae.predict(image, label)\n",
    "    \n",
    "    plt.subplot(2,8,i+1)\n",
    "    plt.imshow(image.reshape((28,28)), cmap='gray')\n",
    "    plt.gca().set_xticks([])\n",
    "    plt.gca().set_yticks([])\n",
    "    \n",
    "    plt.subplot(2,8,i+9)\n",
    "    \n",
    "    plt.imshow(decoded_image.reshape((28,28)), cmap='gray')\n",
    "    plt.gca().set_xticks([])\n",
    "    plt.gca().set_yticks([])"
   ]
  },
  {
   "cell_type": "code",
   "execution_count": 60,
   "metadata": {},
   "outputs": [
    {
     "name": "stdout",
     "output_type": "stream",
     "text": [
      "2\n"
     ]
    },
    {
     "data": {
      "text/plain": [
       "[]"
      ]
     },
     "execution_count": 60,
     "metadata": {},
     "output_type": "execute_result"
    },
    {
     "data": {
      "image/png": "[encoded data removed]",
      "text/plain": [
       "<matplotlib.figure.Figure at 0x11f5e8750>"
      ]
     },
     "metadata": {},
     "output_type": "display_data"
    }
   ],
   "source": [
    "n_samples = 1\n",
    "y_dim=10\n",
    "y_sample = np.zeros(shape=[n_samples, y_dim])\n",
    "for k in range(n_samples):\n",
    "    digit = np.random.randint(0, y_dim)\n",
    "    print digit\n",
    "    y_sample[k, digit] = 1\n",
    "\n",
    "plt.figure()\n",
    "plt.imshow(vae.generate(y_sample).reshape((28,28)), cmap='gray')\n",
    "plt.gca().set_xticks([])\n",
    "plt.gca().set_yticks([])"
   ]
  },
  {
   "cell_type": "code",
   "execution_count": 28,
   "metadata": {
    "collapsed": true
   },
   "outputs": [],
   "source": [
    "vae.sess.close()"
   ]
  },
  {
   "cell_type": "code",
   "execution_count": null,
   "metadata": {
    "collapsed": true
   },
   "outputs": [],
   "source": []
  }
 ],
 "metadata": {
  "kernelspec": {
   "display_name": "ml_env",
   "language": "python",
   "name": "ml_env"
  },
  "language_info": {
   "codemirror_mode": {
    "name": "ipython",
    "version": 2
   },
   "file_extension": ".py",
   "mimetype": "text/x-python",
   "name": "python",
   "nbconvert_exporter": "python",
   "pygments_lexer": "ipython2",
   "version": "2.7.10"
  }
 },
 "nbformat": 4,
 "nbformat_minor": 2
}
