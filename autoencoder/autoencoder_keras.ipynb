{
 "cells": [
  {
   "cell_type": "code",
   "execution_count": 1,
   "metadata": {},
   "outputs": [
    {
     "name": "stderr",
     "output_type": "stream",
     "text": [
      "Using TensorFlow backend.\n"
     ]
    }
   ],
   "source": [
    "from keras.layers import Input, Flatten, Reshape, RepeatVector, Lambda, Dense, Conv2D, MaxPooling2D, UpSampling2D\n",
    "from keras.layers import LSTM\n",
    "from keras.models import Model\n",
    "from keras import regularizers\n",
    "from keras import backend as K\n",
    "from keras import losses\n",
    "\n",
    "from keras.callbacks import ModelCheckpoint, EarlyStopping, TensorBoard\n",
    "from keras.layers.merge import concatenate"
   ]
  },
  {
   "cell_type": "code",
   "execution_count": 2,
   "metadata": {
    "collapsed": true
   },
   "outputs": [],
   "source": [
    "import tensorflow as tf\n",
    "from tensorflow.examples.tutorials.mnist import input_data"
   ]
  },
  {
   "cell_type": "code",
   "execution_count": 3,
   "metadata": {
    "collapsed": true
   },
   "outputs": [],
   "source": [
    "import numpy as np\n",
    "import scipy.stats"
   ]
  },
  {
   "cell_type": "code",
   "execution_count": 4,
   "metadata": {
    "collapsed": true
   },
   "outputs": [],
   "source": [
    "import matplotlib\n",
    "matplotlib.use('AGG')\n",
    "import matplotlib.pyplot as plt\n",
    "import seaborn as sns\n",
    "sns.set_style(\"white\") \n",
    "\n",
    "# display plots in this notebook\n",
    "%matplotlib inline"
   ]
  },
  {
   "cell_type": "markdown",
   "metadata": {
    "collapsed": true
   },
   "source": [
    "## Naive autoencoder"
   ]
  },
  {
   "cell_type": "code",
   "execution_count": 5,
   "metadata": {},
   "outputs": [
    {
     "name": "stdout",
     "output_type": "stream",
     "text": [
      "Extracting MNIST_data/train-images-idx3-ubyte.gz\n",
      "Extracting MNIST_data/train-labels-idx1-ubyte.gz\n",
      "Extracting MNIST_data/t10k-images-idx3-ubyte.gz\n",
      "Extracting MNIST_data/t10k-labels-idx1-ubyte.gz\n"
     ]
    }
   ],
   "source": [
    "from tensorflow.examples.tutorials.mnist import input_data\n",
    "mnist = input_data.read_data_sets(\"MNIST_data/\", one_hot=True)"
   ]
  },
  {
   "cell_type": "code",
   "execution_count": 6,
   "metadata": {
    "collapsed": true
   },
   "outputs": [],
   "source": [
    "encoding_dim = 100"
   ]
  },
  {
   "cell_type": "code",
   "execution_count": 7,
   "metadata": {},
   "outputs": [],
   "source": [
    "input = Input(shape=(784,))\n",
    "encoded = Dense(encoding_dim, activation='relu')(input)\n",
    "decoded = Dense(784, activation='sigmoid')(encoded)\n",
    "\n",
    "autoencoder = Model(input, decoded)"
   ]
  },
  {
   "cell_type": "code",
   "execution_count": 8,
   "metadata": {
    "collapsed": true
   },
   "outputs": [],
   "source": [
    "encoder = Model(input, encoded)"
   ]
  },
  {
   "cell_type": "code",
   "execution_count": 9,
   "metadata": {
    "collapsed": true
   },
   "outputs": [],
   "source": [
    "decoder_input = Input(shape=(encoding_dim,))\n",
    "decoder = Model(decoder_input, autoencoder.layers[-1](decoder_input))"
   ]
  },
  {
   "cell_type": "code",
   "execution_count": 10,
   "metadata": {
    "collapsed": true
   },
   "outputs": [],
   "source": [
    "autoencoder.compile(optimizer='adadelta', loss='binary_crossentropy')"
   ]
  },
  {
   "cell_type": "markdown",
   "metadata": {},
   "source": [
    "model_checkpoint = ModelCheckpoint(bst_model_path, save_best_only=True, save_weights_only=True)"
   ]
  },
  {
   "cell_type": "code",
   "execution_count": 11,
   "metadata": {},
   "outputs": [
    {
     "name": "stderr",
     "output_type": "stream",
     "text": [
      "/Users/zzeng/Documents/Python/env/ml_env/lib/python2.7/site-packages/ipykernel_launcher.py:4: UserWarning: The `nb_epoch` argument in `fit` has been renamed `epochs`.\n",
      "  after removing the cwd from sys.path.\n"
     ]
    },
    {
     "name": "stdout",
     "output_type": "stream",
     "text": [
      "Train on 55000 samples, validate on 10000 samples\n",
      "Epoch 1/10\n",
      "55000/55000 [==============================] - 3s - loss: 0.3053 - val_loss: 0.2400\n",
      "Epoch 2/10\n",
      "55000/55000 [==============================] - 3s - loss: 0.2196 - val_loss: 0.1997\n",
      "Epoch 3/10\n",
      "55000/55000 [==============================] - 3s - loss: 0.1893 - val_loss: 0.1774\n",
      "Epoch 4/10\n",
      "55000/55000 [==============================] - 3s - loss: 0.1715 - val_loss: 0.1634\n",
      "Epoch 5/10\n",
      "55000/55000 [==============================] - 3s - loss: 0.1594 - val_loss: 0.1528\n",
      "Epoch 6/10\n",
      "55000/55000 [==============================] - 3s - loss: 0.1500 - val_loss: 0.1441\n",
      "Epoch 7/10\n",
      "55000/55000 [==============================] - 3s - loss: 0.1421 - val_loss: 0.1370\n",
      "Epoch 8/10\n",
      "55000/55000 [==============================] - 3s - loss: 0.1355 - val_loss: 0.1309\n",
      "Epoch 9/10\n",
      "55000/55000 [==============================] - 3s - loss: 0.1297 - val_loss: 0.1255\n",
      "Epoch 10/10\n",
      "55000/55000 [==============================] - 3s - loss: 0.1246 - val_loss: 0.1207\n"
     ]
    }
   ],
   "source": [
    "history = autoencoder.fit(mnist.train.images, mnist.train.images, batch_size=128, nb_epoch=10,\n",
    "                          validation_data=[mnist.test.images, mnist.test.images],\n",
    "                          callbacks=[TensorBoard(log_dir='save/autoencoder_keras/tensorboard/'),\n",
    "                                     ModelCheckpoint('save/autoencoder_keras/autoencoder_keras_{epoch:02d}.hdf5', period=2)])"
   ]
  },
  {
   "cell_type": "code",
   "execution_count": 13,
   "metadata": {},
   "outputs": [
    {
     "data": {
      "image/png": "[encoded data removed]",
      "text/plain": [
       "<matplotlib.figure.Figure at 0x115ad9810>"
      ]
     },
     "metadata": {},
     "output_type": "display_data"
    }
   ],
   "source": [
    "fig, fig_ax = plt.subplots(nrows=2, ncols=8, figsize=(12,3))\n",
    "for i in range(8):\n",
    "    random_image = mnist.test.images[np.random.randint(0, 10000, 1), :]\n",
    "    plt.subplot(2,8,i+1)\n",
    "    plt.imshow(random_image.reshape((28,28)), cmap='gray')\n",
    "    plt.gca().set_xticks([])\n",
    "    plt.gca().set_yticks([])\n",
    "    \n",
    "    plt.subplot(2,8,i+9)\n",
    "    plt.imshow(autoencoder.predict(random_image).reshape((28,28)), cmap='gray')\n",
    "    plt.gca().set_xticks([])\n",
    "    plt.gca().set_yticks([])"
   ]
  },
  {
   "cell_type": "code",
   "execution_count": 14,
   "metadata": {},
   "outputs": [
    {
     "data": {
      "image/svg+xml": [
       "<svg height=\"194pt\" viewBox=\"0.00 0.00 136.00 194.00\" width=\"136pt\" xmlns=\"http://www.w3.org/2000/svg\" xmlns:xlink=\"http://www.w3.org/1999/xlink\">\n",
       "<g class=\"graph\" id=\"graph0\" transform=\"scale(1 1) rotate(0) translate(4 190)\">\n",
       "<title>G</title>\n",
       "<polygon fill=\"white\" points=\"-4,4 -4,-190 132,-190 132,4 -4,4\" stroke=\"none\"/>\n",
       "<!-- 4658665424 -->\n",
       "<g class=\"node\" id=\"node1\"><title>4658665424</title>\n",
       "<polygon fill=\"none\" points=\"-0.5,-149 -0.5,-185 128.5,-185 128.5,-149 -0.5,-149\" stroke=\"black\"/>\n",
       "<text font-family=\"Times,serif\" font-size=\"14.00\" text-anchor=\"middle\" x=\"64\" y=\"-163.3\">input_1: InputLayer</text>\n",
       "</g>\n",
       "<!-- 4475583632 -->\n",
       "<g class=\"node\" id=\"node2\"><title>4475583632</title>\n",
       "<polygon fill=\"none\" points=\"11.5,-75 11.5,-111 116.5,-111 116.5,-75 11.5,-75\" stroke=\"black\"/>\n",
       "<text font-family=\"Times,serif\" font-size=\"14.00\" text-anchor=\"middle\" x=\"64\" y=\"-89.3\">dense_1: Dense</text>\n",
       "</g>\n",
       "<!-- 4658665424&#45;&gt;4475583632 -->\n",
       "<g class=\"edge\" id=\"edge1\"><title>4658665424-&gt;4475583632</title>\n",
       "<path d=\"M64,-148.937C64,-140.807 64,-130.876 64,-121.705\" fill=\"none\" stroke=\"black\"/>\n",
       "<polygon fill=\"black\" points=\"67.5001,-121.441 64,-111.441 60.5001,-121.441 67.5001,-121.441\" stroke=\"black\"/>\n",
       "</g>\n",
       "<!-- 4658665360 -->\n",
       "<g class=\"node\" id=\"node3\"><title>4658665360</title>\n",
       "<polygon fill=\"none\" points=\"11.5,-1 11.5,-37 116.5,-37 116.5,-1 11.5,-1\" stroke=\"black\"/>\n",
       "<text font-family=\"Times,serif\" font-size=\"14.00\" text-anchor=\"middle\" x=\"64\" y=\"-15.3\">dense_2: Dense</text>\n",
       "</g>\n",
       "<!-- 4475583632&#45;&gt;4658665360 -->\n",
       "<g class=\"edge\" id=\"edge2\"><title>4475583632-&gt;4658665360</title>\n",
       "<path d=\"M64,-74.937C64,-66.8072 64,-56.8761 64,-47.7047\" fill=\"none\" stroke=\"black\"/>\n",
       "<polygon fill=\"black\" points=\"67.5001,-47.4406 64,-37.4407 60.5001,-47.4407 67.5001,-47.4406\" stroke=\"black\"/>\n",
       "</g>\n",
       "</g>\n",
       "</svg>"
      ],
      "text/plain": [
       "<IPython.core.display.SVG object>"
      ]
     },
     "execution_count": 14,
     "metadata": {},
     "output_type": "execute_result"
    }
   ],
   "source": [
    "from IPython.display import SVG\n",
    "from keras.utils.vis_utils import model_to_dot\n",
    "\n",
    "SVG(model_to_dot(autoencoder).create(prog='dot', format='svg'))"
   ]
  },
  {
   "cell_type": "markdown",
   "metadata": {},
   "source": [
    "### denoising"
   ]
  },
  {
   "cell_type": "code",
   "execution_count": 11,
   "metadata": {},
   "outputs": [],
   "source": [
    "noise_factor = 0.5\n",
    "\n",
    "x_train = mnist.train.images\n",
    "x_train_noised = x_train + noise_factor * np.random.normal(size=x_train.shape)\n",
    "x_train_noised = np.clip(x_train_noised, 0, 1)\n",
    "\n",
    "\n",
    "x_test = mnist.test.images\n",
    "x_test_noised = x_test + noise_factor * np.random.normal(size=x_test.shape)\n",
    "x_test_noised = np.clip(x_test_noised, 0, 1)"
   ]
  },
  {
   "cell_type": "code",
   "execution_count": 12,
   "metadata": {},
   "outputs": [
    {
     "name": "stderr",
     "output_type": "stream",
     "text": [
      "/Users/zzeng/Documents/Python/env/ml_env/lib/python2.7/site-packages/ipykernel_launcher.py:2: UserWarning: The `nb_epoch` argument in `fit` has been renamed `epochs`.\n",
      "  \n"
     ]
    },
    {
     "name": "stdout",
     "output_type": "stream",
     "text": [
      "Train on 55000 samples, validate on 10000 samples\n",
      "Epoch 1/10\n",
      "55000/55000 [==============================] - 3s - loss: 0.2979 - val_loss: 0.2607\n",
      "Epoch 2/10\n",
      "55000/55000 [==============================] - 3s - loss: 0.2501 - val_loss: 0.2353\n",
      "Epoch 3/10\n",
      "55000/55000 [==============================] - 3s - loss: 0.2229 - val_loss: 0.2096\n",
      "Epoch 4/10\n",
      "55000/55000 [==============================] - 3s - loss: 0.2021 - val_loss: 0.1930\n",
      "Epoch 5/10\n",
      "55000/55000 [==============================] - 3s - loss: 0.1888 - val_loss: 0.1822\n",
      "Epoch 6/10\n",
      "55000/55000 [==============================] - 3s - loss: 0.1793 - val_loss: 0.1738\n",
      "Epoch 7/10\n",
      "55000/55000 [==============================] - 3s - loss: 0.1718 - val_loss: 0.1670\n",
      "Epoch 8/10\n",
      "55000/55000 [==============================] - 3s - loss: 0.1655 - val_loss: 0.1613\n",
      "Epoch 9/10\n",
      "55000/55000 [==============================] - 3s - loss: 0.1603 - val_loss: 0.1566\n",
      "Epoch 10/10\n",
      "55000/55000 [==============================] - 3s - loss: 0.1559 - val_loss: 0.1525\n"
     ]
    }
   ],
   "source": [
    "history = autoencoder.fit(x_train_noised, x_train, batch_size=128, nb_epoch=10,\n",
    "                          validation_data=[x_test_noised, x_test])"
   ]
  },
  {
   "cell_type": "code",
   "execution_count": 13,
   "metadata": {},
   "outputs": [
    {
     "data": {
      "image/png": "[encoded data removed]",
      "text/plain": [
       "<matplotlib.figure.Figure at 0x108083b50>"
      ]
     },
     "metadata": {},
     "output_type": "display_data"
    }
   ],
   "source": [
    "fig, fig_ax = plt.subplots(nrows=2, ncols=8, figsize=(12,3))\n",
    "for i in range(8):\n",
    "    random_image = x_test_noised[np.random.randint(0, 10000, 1), :]\n",
    "    plt.subplot(2,8,i+1)\n",
    "    plt.imshow(random_image.reshape((28,28)), cmap='gray')\n",
    "    plt.gca().set_xticks([])\n",
    "    plt.gca().set_yticks([])\n",
    "    \n",
    "    plt.subplot(2,8,i+9)\n",
    "    plt.imshow(autoencoder.predict(random_image).reshape((28,28)), cmap='gray')\n",
    "    plt.gca().set_xticks([])\n",
    "    plt.gca().set_yticks([])"
   ]
  },
  {
   "cell_type": "markdown",
   "metadata": {},
   "source": [
    "## Adding a sparsity constraint on the encoded representations"
   ]
  },
  {
   "cell_type": "code",
   "execution_count": 15,
   "metadata": {},
   "outputs": [
    {
     "name": "stdout",
     "output_type": "stream",
     "text": [
      "Extracting MNIST_data/train-images-idx3-ubyte.gz\n",
      "Extracting MNIST_data/train-labels-idx1-ubyte.gz\n",
      "Extracting MNIST_data/t10k-images-idx3-ubyte.gz\n",
      "Extracting MNIST_data/t10k-labels-idx1-ubyte.gz\n"
     ]
    }
   ],
   "source": [
    "from tensorflow.examples.tutorials.mnist import input_data\n",
    "mnist = input_data.read_data_sets(\"MNIST_data/\", one_hot=True)"
   ]
  },
  {
   "cell_type": "code",
   "execution_count": 16,
   "metadata": {
    "collapsed": true
   },
   "outputs": [],
   "source": [
    "encoding_dim = 100"
   ]
  },
  {
   "cell_type": "code",
   "execution_count": 31,
   "metadata": {},
   "outputs": [],
   "source": [
    "input = Input(shape=(784,))\n",
    "encoded = Dense(encoding_dim, activation='relu', activity_regularizer=regularizers.l1(1e-5))(input)\n",
    "decoded = Dense(784, activation='sigmoid')(encoded)\n",
    "\n",
    "autoencoder = Model(input, decoded)"
   ]
  },
  {
   "cell_type": "code",
   "execution_count": 32,
   "metadata": {
    "collapsed": true
   },
   "outputs": [],
   "source": [
    "encoder = Model(input, encoded)"
   ]
  },
  {
   "cell_type": "code",
   "execution_count": 33,
   "metadata": {
    "collapsed": true
   },
   "outputs": [],
   "source": [
    "decoder_input = Input(shape=(encoding_dim,))\n",
    "decoder = Model(decoder_input, autoencoder.layers[-1](decoder_input))"
   ]
  },
  {
   "cell_type": "code",
   "execution_count": 34,
   "metadata": {
    "collapsed": true
   },
   "outputs": [],
   "source": [
    "autoencoder.compile(optimizer='adadelta', loss='binary_crossentropy')"
   ]
  },
  {
   "cell_type": "code",
   "execution_count": 35,
   "metadata": {
    "scrolled": true
   },
   "outputs": [
    {
     "name": "stderr",
     "output_type": "stream",
     "text": [
      "/Users/zzeng/Documents/Python/env/ml_env/lib/python2.7/site-packages/ipykernel_launcher.py:2: UserWarning: The `nb_epoch` argument in `fit` has been renamed `epochs`.\n",
      "  \n"
     ]
    },
    {
     "name": "stdout",
     "output_type": "stream",
     "text": [
      "Train on 55000 samples, validate on 10000 samples\n",
      "Epoch 1/50\n",
      "55000/55000 [==============================] - 3s - loss: 0.3853 - val_loss: 0.3009\n",
      "Epoch 2/50\n",
      "55000/55000 [==============================] - 3s - loss: 0.2906 - val_loss: 0.2814\n",
      "Epoch 3/50\n",
      "55000/55000 [==============================] - 3s - loss: 0.2748 - val_loss: 0.2665\n",
      "Epoch 4/50\n",
      "55000/55000 [==============================] - 3s - loss: 0.2618 - val_loss: 0.2552\n",
      "Epoch 5/50\n",
      "55000/55000 [==============================] - 3s - loss: 0.2527 - val_loss: 0.2478\n",
      "Epoch 6/50\n",
      "55000/55000 [==============================] - 3s - loss: 0.2466 - val_loss: 0.2430\n",
      "Epoch 7/50\n",
      "55000/55000 [==============================] - 3s - loss: 0.2426 - val_loss: 0.2396\n",
      "Epoch 8/50\n",
      "55000/55000 [==============================] - 3s - loss: 0.2396 - val_loss: 0.2370\n",
      "Epoch 9/50\n",
      "55000/55000 [==============================] - 3s - loss: 0.2371 - val_loss: 0.2346\n",
      "Epoch 10/50\n",
      "55000/55000 [==============================] - 3s - loss: 0.2346 - val_loss: 0.2320\n",
      "Epoch 11/50\n",
      "55000/55000 [==============================] - 4s - loss: 0.2317 - val_loss: 0.2289\n",
      "Epoch 12/50\n",
      "55000/55000 [==============================] - 3s - loss: 0.2288 - val_loss: 0.2261\n",
      "Epoch 13/50\n",
      "55000/55000 [==============================] - 3s - loss: 0.2263 - val_loss: 0.2239\n",
      "Epoch 14/50\n",
      "55000/55000 [==============================] - 3s - loss: 0.2241 - val_loss: 0.2218\n",
      "Epoch 15/50\n",
      "55000/55000 [==============================] - 3s - loss: 0.2220 - val_loss: 0.2196\n",
      "Epoch 16/50\n",
      "55000/55000 [==============================] - 3s - loss: 0.2197 - val_loss: 0.2173\n",
      "Epoch 17/50\n",
      "55000/55000 [==============================] - 3s - loss: 0.2175 - val_loss: 0.2153\n",
      "Epoch 18/50\n",
      "55000/55000 [==============================] - 3s - loss: 0.2157 - val_loss: 0.2138\n",
      "Epoch 19/50\n",
      "55000/55000 [==============================] - 3s - loss: 0.2143 - val_loss: 0.2124\n",
      "Epoch 20/50\n",
      "55000/55000 [==============================] - 3s - loss: 0.2131 - val_loss: 0.2113\n",
      "Epoch 21/50\n",
      "55000/55000 [==============================] - 3s - loss: 0.2120 - val_loss: 0.2103\n",
      "Epoch 22/50\n",
      "55000/55000 [==============================] - 3s - loss: 0.2111 - val_loss: 0.2094\n",
      "Epoch 23/50\n",
      "55000/55000 [==============================] - 3s - loss: 0.2102 - val_loss: 0.2086\n",
      "Epoch 24/50\n",
      "55000/55000 [==============================] - 4s - loss: 0.2095 - val_loss: 0.2079\n",
      "Epoch 25/50\n",
      "55000/55000 [==============================] - 3s - loss: 0.2088 - val_loss: 0.2072\n",
      "Epoch 26/50\n",
      "55000/55000 [==============================] - 4s - loss: 0.2082 - val_loss: 0.2066\n",
      "Epoch 27/50\n",
      "55000/55000 [==============================] - 3s - loss: 0.2076 - val_loss: 0.2061\n",
      "Epoch 28/50\n",
      "55000/55000 [==============================] - 3s - loss: 0.2070 - val_loss: 0.2055\n",
      "Epoch 29/50\n",
      "55000/55000 [==============================] - 4s - loss: 0.2066 - val_loss: 0.2050\n",
      "Epoch 30/50\n",
      "55000/55000 [==============================] - 3s - loss: 0.2061 - val_loss: 0.2046\n",
      "Epoch 31/50\n",
      "55000/55000 [==============================] - 3s - loss: 0.2056 - val_loss: 0.2041\n",
      "Epoch 32/50\n",
      "55000/55000 [==============================] - 3s - loss: 0.2052 - val_loss: 0.2037\n",
      "Epoch 33/50\n",
      "55000/55000 [==============================] - 3s - loss: 0.2048 - val_loss: 0.2033\n",
      "Epoch 34/50\n",
      "55000/55000 [==============================] - 3s - loss: 0.2045 - val_loss: 0.2030\n",
      "Epoch 35/50\n",
      "55000/55000 [==============================] - 3s - loss: 0.2041 - val_loss: 0.2026\n",
      "Epoch 36/50\n",
      "55000/55000 [==============================] - 3s - loss: 0.2037 - val_loss: 0.2022\n",
      "Epoch 37/50\n",
      "55000/55000 [==============================] - 3s - loss: 0.2034 - val_loss: 0.2019\n",
      "Epoch 38/50\n",
      "55000/55000 [==============================] - 3s - loss: 0.2030 - val_loss: 0.2015\n",
      "Epoch 39/50\n",
      "55000/55000 [==============================] - 3s - loss: 0.2026 - val_loss: 0.2012\n",
      "Epoch 40/50\n",
      "55000/55000 [==============================] - 3s - loss: 0.2022 - val_loss: 0.2007\n",
      "Epoch 41/50\n",
      "55000/55000 [==============================] - 3s - loss: 0.2018 - val_loss: 0.2002\n",
      "Epoch 42/50\n",
      "55000/55000 [==============================] - 3s - loss: 0.2012 - val_loss: 0.1996\n",
      "Epoch 43/50\n",
      "55000/55000 [==============================] - 3s - loss: 0.2006 - val_loss: 0.1991\n",
      "Epoch 44/50\n",
      "55000/55000 [==============================] - 3s - loss: 0.2000 - val_loss: 0.1985\n",
      "Epoch 45/50\n",
      "55000/55000 [==============================] - 3s - loss: 0.1995 - val_loss: 0.1980\n",
      "Epoch 46/50\n",
      "55000/55000 [==============================] - 3s - loss: 0.1990 - val_loss: 0.1975\n",
      "Epoch 47/50\n",
      "55000/55000 [==============================] - 3s - loss: 0.1986 - val_loss: 0.1971\n",
      "Epoch 48/50\n",
      "55000/55000 [==============================] - 3s - loss: 0.1982 - val_loss: 0.1968\n",
      "Epoch 49/50\n",
      "55000/55000 [==============================] - 3s - loss: 0.1979 - val_loss: 0.1965\n",
      "Epoch 50/50\n",
      "55000/55000 [==============================] - 3s - loss: 0.1976 - val_loss: 0.1961\n"
     ]
    }
   ],
   "source": [
    "history = autoencoder.fit(mnist.train.images, mnist.train.images, batch_size=128, nb_epoch=50,\n",
    "                          validation_data=[mnist.test.images, mnist.test.images])"
   ]
  },
  {
   "cell_type": "code",
   "execution_count": 36,
   "metadata": {},
   "outputs": [
    {
     "data": {
      "image/png": "[encoded data removed]",
      "text/plain": [
       "<matplotlib.figure.Figure at 0x11b3fbd50>"
      ]
     },
     "metadata": {},
     "output_type": "display_data"
    }
   ],
   "source": [
    "fig, fig_ax = plt.subplots(nrows=2, ncols=8, figsize=(12,3))\n",
    "for i in range(8):\n",
    "    random_image = mnist.test.images[np.random.randint(0, 10000, 1), :]\n",
    "    plt.subplot(2,8,i+1)\n",
    "    plt.imshow(random_image.reshape((28,28)), cmap='gray')\n",
    "    plt.gca().set_xticks([])\n",
    "    plt.gca().set_yticks([])\n",
    "    \n",
    "    plt.subplot(2,8,i+9)\n",
    "    plt.imshow(autoencoder.predict(random_image).reshape((28,28)), cmap='gray')\n",
    "    plt.gca().set_xticks([])\n",
    "    plt.gca().set_yticks([])"
   ]
  },
  {
   "cell_type": "markdown",
   "metadata": {},
   "source": [
    "## Convolutional autoencoder"
   ]
  },
  {
   "cell_type": "code",
   "execution_count": 37,
   "metadata": {},
   "outputs": [
    {
     "name": "stdout",
     "output_type": "stream",
     "text": [
      "Extracting MNIST_data/train-images-idx3-ubyte.gz\n",
      "Extracting MNIST_data/train-labels-idx1-ubyte.gz\n",
      "Extracting MNIST_data/t10k-images-idx3-ubyte.gz\n",
      "Extracting MNIST_data/t10k-labels-idx1-ubyte.gz\n"
     ]
    }
   ],
   "source": [
    "from tensorflow.examples.tutorials.mnist import input_data\n",
    "mnist = input_data.read_data_sets(\"MNIST_data/\", one_hot=True)"
   ]
  },
  {
   "cell_type": "code",
   "execution_count": 82,
   "metadata": {},
   "outputs": [],
   "source": [
    "input = Input(shape=(784,))\n",
    "x = Reshape((28, 28, 1))(input)\n",
    "x = Conv2D(16, (3, 3), padding='same', activation='relu')(x)\n",
    "encoded = MaxPooling2D(pool_size=(2,2))(x)\n",
    "x = Conv2D(16, (3, 3), padding='same', activation='relu')(encoded)\n",
    "x = UpSampling2D(size=(2,2))(x)\n",
    "x = Conv2D(1, (3, 3), padding='same', activation='sigmoid')(x)\n",
    "decoded = Reshape((784,))(x)\n",
    "\n",
    "autoencoder = Model(input, decoded)"
   ]
  },
  {
   "cell_type": "code",
   "execution_count": 83,
   "metadata": {
    "collapsed": true
   },
   "outputs": [],
   "source": [
    "encoder = Model(input, encoded)"
   ]
  },
  {
   "cell_type": "code",
   "execution_count": 84,
   "metadata": {},
   "outputs": [],
   "source": [
    "## the decoder mapping from a (14, 14, 16) to (28, 28, 1) doesn't make a lot of sense\n",
    "decoder_input = Input(shape=(14, 14, 16))\n",
    "x = autoencoder.layers[-3](decoder_input)\n",
    "x = autoencoder.layers[-2](x)\n",
    "decoder_output = autoencoder.layers[-1](x)\n",
    "decoder = Model(decoder_input, decoder_output)"
   ]
  },
  {
   "cell_type": "code",
   "execution_count": 85,
   "metadata": {},
   "outputs": [],
   "source": [
    "autoencoder.compile(optimizer='adadelta', loss='binary_crossentropy')"
   ]
  },
  {
   "cell_type": "code",
   "execution_count": 88,
   "metadata": {
    "scrolled": true
   },
   "outputs": [
    {
     "data": {
      "image/svg+xml": [
       "<svg height=\"564pt\" viewBox=\"0.00 0.00 220.00 564.00\" width=\"220pt\" xmlns=\"http://www.w3.org/2000/svg\" xmlns:xlink=\"http://www.w3.org/1999/xlink\">\n",
       "<g class=\"graph\" id=\"graph0\" transform=\"scale(1 1) rotate(0) translate(4 560)\">\n",
       "<title>G</title>\n",
       "<polygon fill=\"white\" points=\"-4,4 -4,-560 216,-560 216,4 -4,4\" stroke=\"none\"/>\n",
       "<!-- 4757249616 -->\n",
       "<g class=\"node\" id=\"node1\"><title>4757249616</title>\n",
       "<polygon fill=\"none\" points=\"38,-519 38,-555 174,-555 174,-519 38,-519\" stroke=\"black\"/>\n",
       "<text font-family=\"Times,serif\" font-size=\"14.00\" text-anchor=\"middle\" x=\"106\" y=\"-533.3\">input_25: InputLayer</text>\n",
       "</g>\n",
       "<!-- 4744770256 -->\n",
       "<g class=\"node\" id=\"node2\"><title>4744770256</title>\n",
       "<polygon fill=\"none\" points=\"42,-445 42,-481 170,-481 170,-445 42,-445\" stroke=\"black\"/>\n",
       "<text font-family=\"Times,serif\" font-size=\"14.00\" text-anchor=\"middle\" x=\"106\" y=\"-459.3\">reshape_8: Reshape</text>\n",
       "</g>\n",
       "<!-- 4757249616&#45;&gt;4744770256 -->\n",
       "<g class=\"edge\" id=\"edge1\"><title>4757249616-&gt;4744770256</title>\n",
       "<path d=\"M106,-518.937C106,-510.807 106,-500.876 106,-491.705\" fill=\"none\" stroke=\"black\"/>\n",
       "<polygon fill=\"black\" points=\"109.5,-491.441 106,-481.441 102.5,-491.441 109.5,-491.441\" stroke=\"black\"/>\n",
       "</g>\n",
       "<!-- 4746983632 -->\n",
       "<g class=\"node\" id=\"node3\"><title>4746983632</title>\n",
       "<polygon fill=\"none\" points=\"39,-371 39,-407 173,-407 173,-371 39,-371\" stroke=\"black\"/>\n",
       "<text font-family=\"Times,serif\" font-size=\"14.00\" text-anchor=\"middle\" x=\"106\" y=\"-385.3\">conv2d_24: Conv2D</text>\n",
       "</g>\n",
       "<!-- 4744770256&#45;&gt;4746983632 -->\n",
       "<g class=\"edge\" id=\"edge2\"><title>4744770256-&gt;4746983632</title>\n",
       "<path d=\"M106,-444.937C106,-436.807 106,-426.876 106,-417.705\" fill=\"none\" stroke=\"black\"/>\n",
       "<polygon fill=\"black\" points=\"109.5,-417.441 106,-407.441 102.5,-417.441 109.5,-417.441\" stroke=\"black\"/>\n",
       "</g>\n",
       "<!-- 4757469968 -->\n",
       "<g class=\"node\" id=\"node4\"><title>4757469968</title>\n",
       "<polygon fill=\"none\" points=\"0,-297 0,-333 212,-333 212,-297 0,-297\" stroke=\"black\"/>\n",
       "<text font-family=\"Times,serif\" font-size=\"14.00\" text-anchor=\"middle\" x=\"106\" y=\"-311.3\">max_pooling2d_7: MaxPooling2D</text>\n",
       "</g>\n",
       "<!-- 4746983632&#45;&gt;4757469968 -->\n",
       "<g class=\"edge\" id=\"edge3\"><title>4746983632-&gt;4757469968</title>\n",
       "<path d=\"M106,-370.937C106,-362.807 106,-352.876 106,-343.705\" fill=\"none\" stroke=\"black\"/>\n",
       "<polygon fill=\"black\" points=\"109.5,-343.441 106,-333.441 102.5,-343.441 109.5,-343.441\" stroke=\"black\"/>\n",
       "</g>\n",
       "<!-- 4744808848 -->\n",
       "<g class=\"node\" id=\"node5\"><title>4744808848</title>\n",
       "<polygon fill=\"none\" points=\"39,-223 39,-259 173,-259 173,-223 39,-223\" stroke=\"black\"/>\n",
       "<text font-family=\"Times,serif\" font-size=\"14.00\" text-anchor=\"middle\" x=\"106\" y=\"-237.3\">conv2d_25: Conv2D</text>\n",
       "</g>\n",
       "<!-- 4757469968&#45;&gt;4744808848 -->\n",
       "<g class=\"edge\" id=\"edge4\"><title>4757469968-&gt;4744808848</title>\n",
       "<path d=\"M106,-296.937C106,-288.807 106,-278.876 106,-269.705\" fill=\"none\" stroke=\"black\"/>\n",
       "<polygon fill=\"black\" points=\"109.5,-269.441 106,-259.441 102.5,-269.441 109.5,-269.441\" stroke=\"black\"/>\n",
       "</g>\n",
       "<!-- 4744770320 -->\n",
       "<g class=\"node\" id=\"node6\"><title>4744770320</title>\n",
       "<polygon fill=\"none\" points=\"0,-149 0,-185 212,-185 212,-149 0,-149\" stroke=\"black\"/>\n",
       "<text font-family=\"Times,serif\" font-size=\"14.00\" text-anchor=\"middle\" x=\"106\" y=\"-163.3\">up_sampling2d_9: UpSampling2D</text>\n",
       "</g>\n",
       "<!-- 4744808848&#45;&gt;4744770320 -->\n",
       "<g class=\"edge\" id=\"edge5\"><title>4744808848-&gt;4744770320</title>\n",
       "<path d=\"M106,-222.937C106,-214.807 106,-204.876 106,-195.705\" fill=\"none\" stroke=\"black\"/>\n",
       "<polygon fill=\"black\" points=\"109.5,-195.441 106,-185.441 102.5,-195.441 109.5,-195.441\" stroke=\"black\"/>\n",
       "</g>\n",
       "<!-- 4744770064 -->\n",
       "<g class=\"node\" id=\"node7\"><title>4744770064</title>\n",
       "<polygon fill=\"none\" points=\"39,-75 39,-111 173,-111 173,-75 39,-75\" stroke=\"black\"/>\n",
       "<text font-family=\"Times,serif\" font-size=\"14.00\" text-anchor=\"middle\" x=\"106\" y=\"-89.3\">conv2d_26: Conv2D</text>\n",
       "</g>\n",
       "<!-- 4744770320&#45;&gt;4744770064 -->\n",
       "<g class=\"edge\" id=\"edge6\"><title>4744770320-&gt;4744770064</title>\n",
       "<path d=\"M106,-148.937C106,-140.807 106,-130.876 106,-121.705\" fill=\"none\" stroke=\"black\"/>\n",
       "<polygon fill=\"black\" points=\"109.5,-121.441 106,-111.441 102.5,-121.441 109.5,-121.441\" stroke=\"black\"/>\n",
       "</g>\n",
       "<!-- 4757801232 -->\n",
       "<g class=\"node\" id=\"node8\"><title>4757801232</title>\n",
       "<polygon fill=\"none\" points=\"42,-1 42,-37 170,-37 170,-1 42,-1\" stroke=\"black\"/>\n",
       "<text font-family=\"Times,serif\" font-size=\"14.00\" text-anchor=\"middle\" x=\"106\" y=\"-15.3\">reshape_9: Reshape</text>\n",
       "</g>\n",
       "<!-- 4744770064&#45;&gt;4757801232 -->\n",
       "<g class=\"edge\" id=\"edge7\"><title>4744770064-&gt;4757801232</title>\n",
       "<path d=\"M106,-74.937C106,-66.8072 106,-56.8761 106,-47.7047\" fill=\"none\" stroke=\"black\"/>\n",
       "<polygon fill=\"black\" points=\"109.5,-47.4406 106,-37.4407 102.5,-47.4407 109.5,-47.4406\" stroke=\"black\"/>\n",
       "</g>\n",
       "</g>\n",
       "</svg>"
      ],
      "text/plain": [
       "<IPython.core.display.SVG object>"
      ]
     },
     "execution_count": 88,
     "metadata": {},
     "output_type": "execute_result"
    }
   ],
   "source": [
    "from IPython.display import SVG\n",
    "from keras.utils.vis_utils import model_to_dot\n",
    "\n",
    "SVG(model_to_dot(autoencoder).create(prog='dot', format='svg'))"
   ]
  },
  {
   "cell_type": "code",
   "execution_count": 86,
   "metadata": {
    "collapsed": true
   },
   "outputs": [
    {
     "name": "stderr",
     "output_type": "stream",
     "text": [
      "/Users/zzeng/Documents/Python/env/ml_env/lib/python2.7/site-packages/ipykernel_launcher.py:2: UserWarning: The `nb_epoch` argument in `fit` has been renamed `epochs`.\n",
      "  \n"
     ]
    },
    {
     "name": "stdout",
     "output_type": "stream",
     "text": [
      "Train on 55000 samples, validate on 10000 samples\n",
      "Epoch 1/10\n",
      "55000/55000 [==============================] - 39s - loss: 0.1302 - val_loss: 0.0727\n",
      "Epoch 2/10\n",
      "55000/55000 [==============================] - 41s - loss: 0.0701 - val_loss: 0.0678\n",
      "Epoch 3/10\n",
      "55000/55000 [==============================] - 43s - loss: 0.0676 - val_loss: 0.0662\n",
      "Epoch 4/10\n",
      "55000/55000 [==============================] - 45s - loss: 0.0666 - val_loss: 0.0658\n",
      "Epoch 5/10\n",
      "55000/55000 [==============================] - 42s - loss: 0.0659 - val_loss: 0.0652\n",
      "Epoch 6/10\n",
      " 1152/55000 [..............................] - ETA: 37s - loss: 0.0652"
     ]
    },
    {
     "ename": "KeyboardInterrupt",
     "evalue": "",
     "output_type": "error",
     "traceback": [
      "\u001b[0;31m---------------------------------------------------------------------------\u001b[0m",
      "\u001b[0;31mKeyboardInterrupt\u001b[0m                         Traceback (most recent call last)",
      "\u001b[0;32m<ipython-input-86-95d5013113ee>\u001b[0m in \u001b[0;36m<module>\u001b[0;34m()\u001b[0m\n\u001b[1;32m      1\u001b[0m history = autoencoder.fit(mnist.train.images, mnist.train.images, batch_size=128, nb_epoch=10,\n\u001b[0;32m----> 2\u001b[0;31m                           validation_data=[mnist.test.images, mnist.test.images])\n\u001b[0m",
      "\u001b[0;32m/Users/zzeng/Documents/Python/env/ml_env/lib/python2.7/site-packages/keras/engine/training.pyc\u001b[0m in \u001b[0;36mfit\u001b[0;34m(self, x, y, batch_size, epochs, verbose, callbacks, validation_split, validation_data, shuffle, class_weight, sample_weight, initial_epoch, **kwargs)\u001b[0m\n\u001b[1;32m   1428\u001b[0m                               \u001b[0mval_f\u001b[0m\u001b[0;34m=\u001b[0m\u001b[0mval_f\u001b[0m\u001b[0;34m,\u001b[0m \u001b[0mval_ins\u001b[0m\u001b[0;34m=\u001b[0m\u001b[0mval_ins\u001b[0m\u001b[0;34m,\u001b[0m \u001b[0mshuffle\u001b[0m\u001b[0;34m=\u001b[0m\u001b[0mshuffle\u001b[0m\u001b[0;34m,\u001b[0m\u001b[0;34m\u001b[0m\u001b[0m\n\u001b[1;32m   1429\u001b[0m                               \u001b[0mcallback_metrics\u001b[0m\u001b[0;34m=\u001b[0m\u001b[0mcallback_metrics\u001b[0m\u001b[0;34m,\u001b[0m\u001b[0;34m\u001b[0m\u001b[0m\n\u001b[0;32m-> 1430\u001b[0;31m                               initial_epoch=initial_epoch)\n\u001b[0m\u001b[1;32m   1431\u001b[0m \u001b[0;34m\u001b[0m\u001b[0m\n\u001b[1;32m   1432\u001b[0m     \u001b[0;32mdef\u001b[0m \u001b[0mevaluate\u001b[0m\u001b[0;34m(\u001b[0m\u001b[0mself\u001b[0m\u001b[0;34m,\u001b[0m \u001b[0mx\u001b[0m\u001b[0;34m,\u001b[0m \u001b[0my\u001b[0m\u001b[0;34m,\u001b[0m \u001b[0mbatch_size\u001b[0m\u001b[0;34m=\u001b[0m\u001b[0;36m32\u001b[0m\u001b[0;34m,\u001b[0m \u001b[0mverbose\u001b[0m\u001b[0;34m=\u001b[0m\u001b[0;36m1\u001b[0m\u001b[0;34m,\u001b[0m \u001b[0msample_weight\u001b[0m\u001b[0;34m=\u001b[0m\u001b[0mNone\u001b[0m\u001b[0;34m)\u001b[0m\u001b[0;34m:\u001b[0m\u001b[0;34m\u001b[0m\u001b[0m\n",
      "\u001b[0;32m/Users/zzeng/Documents/Python/env/ml_env/lib/python2.7/site-packages/keras/engine/training.pyc\u001b[0m in \u001b[0;36m_fit_loop\u001b[0;34m(self, f, ins, out_labels, batch_size, epochs, verbose, callbacks, val_f, val_ins, shuffle, callback_metrics, initial_epoch)\u001b[0m\n\u001b[1;32m   1077\u001b[0m                 \u001b[0mbatch_logs\u001b[0m\u001b[0;34m[\u001b[0m\u001b[0;34m'size'\u001b[0m\u001b[0;34m]\u001b[0m \u001b[0;34m=\u001b[0m \u001b[0mlen\u001b[0m\u001b[0;34m(\u001b[0m\u001b[0mbatch_ids\u001b[0m\u001b[0;34m)\u001b[0m\u001b[0;34m\u001b[0m\u001b[0m\n\u001b[1;32m   1078\u001b[0m                 \u001b[0mcallbacks\u001b[0m\u001b[0;34m.\u001b[0m\u001b[0mon_batch_begin\u001b[0m\u001b[0;34m(\u001b[0m\u001b[0mbatch_index\u001b[0m\u001b[0;34m,\u001b[0m \u001b[0mbatch_logs\u001b[0m\u001b[0;34m)\u001b[0m\u001b[0;34m\u001b[0m\u001b[0m\n\u001b[0;32m-> 1079\u001b[0;31m                 \u001b[0mouts\u001b[0m \u001b[0;34m=\u001b[0m \u001b[0mf\u001b[0m\u001b[0;34m(\u001b[0m\u001b[0mins_batch\u001b[0m\u001b[0;34m)\u001b[0m\u001b[0;34m\u001b[0m\u001b[0m\n\u001b[0m\u001b[1;32m   1080\u001b[0m                 \u001b[0;32mif\u001b[0m \u001b[0;32mnot\u001b[0m \u001b[0misinstance\u001b[0m\u001b[0;34m(\u001b[0m\u001b[0mouts\u001b[0m\u001b[0;34m,\u001b[0m \u001b[0mlist\u001b[0m\u001b[0;34m)\u001b[0m\u001b[0;34m:\u001b[0m\u001b[0;34m\u001b[0m\u001b[0m\n\u001b[1;32m   1081\u001b[0m                     \u001b[0mouts\u001b[0m \u001b[0;34m=\u001b[0m \u001b[0;34m[\u001b[0m\u001b[0mouts\u001b[0m\u001b[0;34m]\u001b[0m\u001b[0;34m\u001b[0m\u001b[0m\n",
      "\u001b[0;32m/Users/zzeng/Documents/Python/env/ml_env/lib/python2.7/site-packages/keras/backend/tensorflow_backend.pyc\u001b[0m in \u001b[0;36m__call__\u001b[0;34m(self, inputs)\u001b[0m\n\u001b[1;32m   2266\u001b[0m         updated = session.run(self.outputs + [self.updates_op],\n\u001b[1;32m   2267\u001b[0m                               \u001b[0mfeed_dict\u001b[0m\u001b[0;34m=\u001b[0m\u001b[0mfeed_dict\u001b[0m\u001b[0;34m,\u001b[0m\u001b[0;34m\u001b[0m\u001b[0m\n\u001b[0;32m-> 2268\u001b[0;31m                               **self.session_kwargs)\n\u001b[0m\u001b[1;32m   2269\u001b[0m         \u001b[0;32mreturn\u001b[0m \u001b[0mupdated\u001b[0m\u001b[0;34m[\u001b[0m\u001b[0;34m:\u001b[0m\u001b[0mlen\u001b[0m\u001b[0;34m(\u001b[0m\u001b[0mself\u001b[0m\u001b[0;34m.\u001b[0m\u001b[0moutputs\u001b[0m\u001b[0;34m)\u001b[0m\u001b[0;34m]\u001b[0m\u001b[0;34m\u001b[0m\u001b[0m\n\u001b[1;32m   2270\u001b[0m \u001b[0;34m\u001b[0m\u001b[0m\n",
      "\u001b[0;32m/Users/zzeng/Documents/Python/env/ml_env/lib/python2.7/site-packages/tensorflow/python/client/session.pyc\u001b[0m in \u001b[0;36mrun\u001b[0;34m(self, fetches, feed_dict, options, run_metadata)\u001b[0m\n\u001b[1;32m    787\u001b[0m     \u001b[0;32mtry\u001b[0m\u001b[0;34m:\u001b[0m\u001b[0;34m\u001b[0m\u001b[0m\n\u001b[1;32m    788\u001b[0m       result = self._run(None, fetches, feed_dict, options_ptr,\n\u001b[0;32m--> 789\u001b[0;31m                          run_metadata_ptr)\n\u001b[0m\u001b[1;32m    790\u001b[0m       \u001b[0;32mif\u001b[0m \u001b[0mrun_metadata\u001b[0m\u001b[0;34m:\u001b[0m\u001b[0;34m\u001b[0m\u001b[0m\n\u001b[1;32m    791\u001b[0m         \u001b[0mproto_data\u001b[0m \u001b[0;34m=\u001b[0m \u001b[0mtf_session\u001b[0m\u001b[0;34m.\u001b[0m\u001b[0mTF_GetBuffer\u001b[0m\u001b[0;34m(\u001b[0m\u001b[0mrun_metadata_ptr\u001b[0m\u001b[0;34m)\u001b[0m\u001b[0;34m\u001b[0m\u001b[0m\n",
      "\u001b[0;32m/Users/zzeng/Documents/Python/env/ml_env/lib/python2.7/site-packages/tensorflow/python/client/session.pyc\u001b[0m in \u001b[0;36m_run\u001b[0;34m(self, handle, fetches, feed_dict, options, run_metadata)\u001b[0m\n\u001b[1;32m    995\u001b[0m     \u001b[0;32mif\u001b[0m \u001b[0mfinal_fetches\u001b[0m \u001b[0;32mor\u001b[0m \u001b[0mfinal_targets\u001b[0m\u001b[0;34m:\u001b[0m\u001b[0;34m\u001b[0m\u001b[0m\n\u001b[1;32m    996\u001b[0m       results = self._do_run(handle, final_targets, final_fetches,\n\u001b[0;32m--> 997\u001b[0;31m                              feed_dict_string, options, run_metadata)\n\u001b[0m\u001b[1;32m    998\u001b[0m     \u001b[0;32melse\u001b[0m\u001b[0;34m:\u001b[0m\u001b[0;34m\u001b[0m\u001b[0m\n\u001b[1;32m    999\u001b[0m       \u001b[0mresults\u001b[0m \u001b[0;34m=\u001b[0m \u001b[0;34m[\u001b[0m\u001b[0;34m]\u001b[0m\u001b[0;34m\u001b[0m\u001b[0m\n",
      "\u001b[0;32m/Users/zzeng/Documents/Python/env/ml_env/lib/python2.7/site-packages/tensorflow/python/client/session.pyc\u001b[0m in \u001b[0;36m_do_run\u001b[0;34m(self, handle, target_list, fetch_list, feed_dict, options, run_metadata)\u001b[0m\n\u001b[1;32m   1130\u001b[0m     \u001b[0;32mif\u001b[0m \u001b[0mhandle\u001b[0m \u001b[0;32mis\u001b[0m \u001b[0mNone\u001b[0m\u001b[0;34m:\u001b[0m\u001b[0;34m\u001b[0m\u001b[0m\n\u001b[1;32m   1131\u001b[0m       return self._do_call(_run_fn, self._session, feed_dict, fetch_list,\n\u001b[0;32m-> 1132\u001b[0;31m                            target_list, options, run_metadata)\n\u001b[0m\u001b[1;32m   1133\u001b[0m     \u001b[0;32melse\u001b[0m\u001b[0;34m:\u001b[0m\u001b[0;34m\u001b[0m\u001b[0m\n\u001b[1;32m   1134\u001b[0m       return self._do_call(_prun_fn, self._session, handle, feed_dict,\n",
      "\u001b[0;32m/Users/zzeng/Documents/Python/env/ml_env/lib/python2.7/site-packages/tensorflow/python/client/session.pyc\u001b[0m in \u001b[0;36m_do_call\u001b[0;34m(self, fn, *args)\u001b[0m\n\u001b[1;32m   1137\u001b[0m   \u001b[0;32mdef\u001b[0m \u001b[0m_do_call\u001b[0m\u001b[0;34m(\u001b[0m\u001b[0mself\u001b[0m\u001b[0;34m,\u001b[0m \u001b[0mfn\u001b[0m\u001b[0;34m,\u001b[0m \u001b[0;34m*\u001b[0m\u001b[0margs\u001b[0m\u001b[0;34m)\u001b[0m\u001b[0;34m:\u001b[0m\u001b[0;34m\u001b[0m\u001b[0m\n\u001b[1;32m   1138\u001b[0m     \u001b[0;32mtry\u001b[0m\u001b[0;34m:\u001b[0m\u001b[0;34m\u001b[0m\u001b[0m\n\u001b[0;32m-> 1139\u001b[0;31m       \u001b[0;32mreturn\u001b[0m \u001b[0mfn\u001b[0m\u001b[0;34m(\u001b[0m\u001b[0;34m*\u001b[0m\u001b[0margs\u001b[0m\u001b[0;34m)\u001b[0m\u001b[0;34m\u001b[0m\u001b[0m\n\u001b[0m\u001b[1;32m   1140\u001b[0m     \u001b[0;32mexcept\u001b[0m \u001b[0merrors\u001b[0m\u001b[0;34m.\u001b[0m\u001b[0mOpError\u001b[0m \u001b[0;32mas\u001b[0m \u001b[0me\u001b[0m\u001b[0;34m:\u001b[0m\u001b[0;34m\u001b[0m\u001b[0m\n\u001b[1;32m   1141\u001b[0m       \u001b[0mmessage\u001b[0m \u001b[0;34m=\u001b[0m \u001b[0mcompat\u001b[0m\u001b[0;34m.\u001b[0m\u001b[0mas_text\u001b[0m\u001b[0;34m(\u001b[0m\u001b[0me\u001b[0m\u001b[0;34m.\u001b[0m\u001b[0mmessage\u001b[0m\u001b[0;34m)\u001b[0m\u001b[0;34m\u001b[0m\u001b[0m\n",
      "\u001b[0;32m/Users/zzeng/Documents/Python/env/ml_env/lib/python2.7/site-packages/tensorflow/python/client/session.pyc\u001b[0m in \u001b[0;36m_run_fn\u001b[0;34m(session, feed_dict, fetch_list, target_list, options, run_metadata)\u001b[0m\n\u001b[1;32m   1119\u001b[0m         return tf_session.TF_Run(session, options,\n\u001b[1;32m   1120\u001b[0m                                  \u001b[0mfeed_dict\u001b[0m\u001b[0;34m,\u001b[0m \u001b[0mfetch_list\u001b[0m\u001b[0;34m,\u001b[0m \u001b[0mtarget_list\u001b[0m\u001b[0;34m,\u001b[0m\u001b[0;34m\u001b[0m\u001b[0m\n\u001b[0;32m-> 1121\u001b[0;31m                                  status, run_metadata)\n\u001b[0m\u001b[1;32m   1122\u001b[0m \u001b[0;34m\u001b[0m\u001b[0m\n\u001b[1;32m   1123\u001b[0m     \u001b[0;32mdef\u001b[0m \u001b[0m_prun_fn\u001b[0m\u001b[0;34m(\u001b[0m\u001b[0msession\u001b[0m\u001b[0;34m,\u001b[0m \u001b[0mhandle\u001b[0m\u001b[0;34m,\u001b[0m \u001b[0mfeed_dict\u001b[0m\u001b[0;34m,\u001b[0m \u001b[0mfetch_list\u001b[0m\u001b[0;34m)\u001b[0m\u001b[0;34m:\u001b[0m\u001b[0;34m\u001b[0m\u001b[0m\n",
      "\u001b[0;31mKeyboardInterrupt\u001b[0m: "
     ]
    }
   ],
   "source": [
    "history = autoencoder.fit(mnist.train.images, mnist.train.images, batch_size=128, nb_epoch=10,\n",
    "                          validation_data=[mnist.test.images, mnist.test.images])"
   ]
  },
  {
   "cell_type": "code",
   "execution_count": 87,
   "metadata": {},
   "outputs": [
    {
     "data": {
      "image/png": "[encoded data removed]",
      "text/plain": [
       "<matplotlib.figure.Figure at 0x11cc0bf50>"
      ]
     },
     "metadata": {},
     "output_type": "display_data"
    }
   ],
   "source": [
    "fig, fig_ax = plt.subplots(nrows=2, ncols=8, figsize=(12,3))\n",
    "for i in range(8):\n",
    "    random_image = mnist.test.images[np.random.randint(0, 10000, 1), :]\n",
    "    plt.subplot(2,8,i+1)\n",
    "    plt.imshow(random_image.reshape((28,28)), cmap='gray')\n",
    "    plt.gca().set_xticks([])\n",
    "    plt.gca().set_yticks([])\n",
    "    \n",
    "    plt.subplot(2,8,i+9)\n",
    "    plt.imshow(autoencoder.predict(random_image).reshape((28,28)), cmap='gray')\n",
    "    plt.gca().set_xticks([])\n",
    "    plt.gca().set_yticks([])"
   ]
  },
  {
   "cell_type": "markdown",
   "metadata": {},
   "source": [
    "## Sequence-to-sequence autoencoder"
   ]
  },
  {
   "cell_type": "code",
   "execution_count": 93,
   "metadata": {
    "collapsed": true
   },
   "outputs": [],
   "source": [
    "timesteps = 10\n",
    "input_dim = 500\n",
    "hidden_dim = 25"
   ]
  },
  {
   "cell_type": "code",
   "execution_count": 97,
   "metadata": {
    "scrolled": true
   },
   "outputs": [],
   "source": [
    "input = Input(shape=(timesteps, input_dim))\n",
    "encoded = LSTM(hidden_dim)(input)\n",
    "x = RepeatVector(timesteps)(encoded)\n",
    "decoded = LSTM(input_dim, return_sequences=True)(x)\n",
    "\n",
    "autoencoder = Model(input, decoded)"
   ]
  },
  {
   "cell_type": "code",
   "execution_count": 98,
   "metadata": {},
   "outputs": [
    {
     "data": {
      "image/svg+xml": [
       "<svg height=\"268pt\" viewBox=\"0.00 0.00 198.00 268.00\" width=\"198pt\" xmlns=\"http://www.w3.org/2000/svg\" xmlns:xlink=\"http://www.w3.org/1999/xlink\">\n",
       "<g class=\"graph\" id=\"graph0\" transform=\"scale(1 1) rotate(0) translate(4 264)\">\n",
       "<title>G</title>\n",
       "<polygon fill=\"white\" points=\"-4,4 -4,-264 194,-264 194,4 -4,4\" stroke=\"none\"/>\n",
       "<!-- 4723456720 -->\n",
       "<g class=\"node\" id=\"node1\"><title>4723456720</title>\n",
       "<polygon fill=\"none\" points=\"27,-223 27,-259 163,-259 163,-223 27,-223\" stroke=\"black\"/>\n",
       "<text font-family=\"Times,serif\" font-size=\"14.00\" text-anchor=\"middle\" x=\"95\" y=\"-237.3\">input_28: InputLayer</text>\n",
       "</g>\n",
       "<!-- 4706020880 -->\n",
       "<g class=\"node\" id=\"node2\"><title>4706020880</title>\n",
       "<polygon fill=\"none\" points=\"45.5,-149 45.5,-185 144.5,-185 144.5,-149 45.5,-149\" stroke=\"black\"/>\n",
       "<text font-family=\"Times,serif\" font-size=\"14.00\" text-anchor=\"middle\" x=\"95\" y=\"-163.3\">lstm_3: LSTM</text>\n",
       "</g>\n",
       "<!-- 4723456720&#45;&gt;4706020880 -->\n",
       "<g class=\"edge\" id=\"edge1\"><title>4723456720-&gt;4706020880</title>\n",
       "<path d=\"M95,-222.937C95,-214.807 95,-204.876 95,-195.705\" fill=\"none\" stroke=\"black\"/>\n",
       "<polygon fill=\"black\" points=\"98.5001,-195.441 95,-185.441 91.5001,-195.441 98.5001,-195.441\" stroke=\"black\"/>\n",
       "</g>\n",
       "<!-- 4717565392 -->\n",
       "<g class=\"node\" id=\"node3\"><title>4717565392</title>\n",
       "<polygon fill=\"none\" points=\"-0.5,-75 -0.5,-111 190.5,-111 190.5,-75 -0.5,-75\" stroke=\"black\"/>\n",
       "<text font-family=\"Times,serif\" font-size=\"14.00\" text-anchor=\"middle\" x=\"95\" y=\"-89.3\">repeat_vector_3: RepeatVector</text>\n",
       "</g>\n",
       "<!-- 4706020880&#45;&gt;4717565392 -->\n",
       "<g class=\"edge\" id=\"edge2\"><title>4706020880-&gt;4717565392</title>\n",
       "<path d=\"M95,-148.937C95,-140.807 95,-130.876 95,-121.705\" fill=\"none\" stroke=\"black\"/>\n",
       "<polygon fill=\"black\" points=\"98.5001,-121.441 95,-111.441 91.5001,-121.441 98.5001,-121.441\" stroke=\"black\"/>\n",
       "</g>\n",
       "<!-- 4732051024 -->\n",
       "<g class=\"node\" id=\"node4\"><title>4732051024</title>\n",
       "<polygon fill=\"none\" points=\"45.5,-1 45.5,-37 144.5,-37 144.5,-1 45.5,-1\" stroke=\"black\"/>\n",
       "<text font-family=\"Times,serif\" font-size=\"14.00\" text-anchor=\"middle\" x=\"95\" y=\"-15.3\">lstm_4: LSTM</text>\n",
       "</g>\n",
       "<!-- 4717565392&#45;&gt;4732051024 -->\n",
       "<g class=\"edge\" id=\"edge3\"><title>4717565392-&gt;4732051024</title>\n",
       "<path d=\"M95,-74.937C95,-66.8072 95,-56.8761 95,-47.7047\" fill=\"none\" stroke=\"black\"/>\n",
       "<polygon fill=\"black\" points=\"98.5001,-47.4406 95,-37.4407 91.5001,-47.4407 98.5001,-47.4406\" stroke=\"black\"/>\n",
       "</g>\n",
       "</g>\n",
       "</svg>"
      ],
      "text/plain": [
       "<IPython.core.display.SVG object>"
      ]
     },
     "execution_count": 98,
     "metadata": {},
     "output_type": "execute_result"
    }
   ],
   "source": [
    "from IPython.display import SVG\n",
    "from keras.utils.vis_utils import model_to_dot\n",
    "\n",
    "SVG(model_to_dot(autoencoder).create(prog='dot', format='svg'))"
   ]
  },
  {
   "cell_type": "markdown",
   "metadata": {},
   "source": [
    "## variational autoencoder (VAE)"
   ]
  },
  {
   "cell_type": "code",
   "execution_count": 80,
   "metadata": {},
   "outputs": [
    {
     "name": "stdout",
     "output_type": "stream",
     "text": [
      "Extracting MNIST_data/train-images-idx3-ubyte.gz\n",
      "Extracting MNIST_data/train-labels-idx1-ubyte.gz\n",
      "Extracting MNIST_data/t10k-images-idx3-ubyte.gz\n",
      "Extracting MNIST_data/t10k-labels-idx1-ubyte.gz\n"
     ]
    }
   ],
   "source": [
    "from tensorflow.examples.tutorials.mnist import input_data\n",
    "mnist = input_data.read_data_sets(\"MNIST_data/\", one_hot=True)"
   ]
  },
  {
   "cell_type": "code",
   "execution_count": 81,
   "metadata": {
    "collapsed": true
   },
   "outputs": [],
   "source": [
    "input_dim = 784\n",
    "intermediate_dim = 200\n",
    "encoding_dim = 100"
   ]
  },
  {
   "cell_type": "code",
   "execution_count": 82,
   "metadata": {
    "collapsed": true
   },
   "outputs": [],
   "source": [
    "def sample_Z(args):\n",
    "    z_mean, z_log_sigma = args\n",
    "    epsilon = tf.random_normal(tf.shape(z_mean), mean=0, stddev=1)\n",
    "    return z_mean + tf.exp(z_log_sigma) * epsilon"
   ]
  },
  {
   "cell_type": "code",
   "execution_count": 83,
   "metadata": {},
   "outputs": [],
   "source": [
    "x = Input(shape=(input_dim,))\n",
    "encoder_h = Dense(intermediate_dim, activation='relu')(x)\n",
    "z_mean = Dense(encoding_dim)(encoder_h)\n",
    "z_log_sigma = Dense(encoding_dim)(encoder_h)\n",
    "\n",
    "z = Lambda(sample_Z, output_shape=(encoding_dim,))([z_mean, z_log_sigma])\n",
    "decoder_h = Dense(intermediate_dim, activation='relu')(z)\n",
    "decoder_x_mean = Dense(input_dim, activation='sigmoid')(decoder_h)"
   ]
  },
  {
   "cell_type": "code",
   "execution_count": 84,
   "metadata": {
    "collapsed": true
   },
   "outputs": [],
   "source": [
    "def vae_loss(x, decoder_x_mean):\n",
    "    cross_entropy_loss = losses.binary_crossentropy(x, decoder_x_mean)\n",
    "    kl_div_loss = - 0.5 * tf.reduce_mean(1 + z_log_sigma - tf.square(z_mean) - tf.exp(z_log_sigma), axis=-1)\n",
    "    return cross_entropy_loss + kl_div_loss"
   ]
  },
  {
   "cell_type": "code",
   "execution_count": 85,
   "metadata": {},
   "outputs": [],
   "source": [
    "vae = Model(x, decoder_x_mean)\n",
    "\n",
    "encoder = Model(x, z_mean)\n",
    "\n",
    "_decoder_input = Input(shape=(encoding_dim,))\n",
    "_decoder_h = vae.layers[-2](_decoder_input)\n",
    "_decoder_x_mean = vae.layers[-1](_decoder_h)\n",
    "\n",
    "decoder = Model(_decoder_input, _decoder_x_mean)"
   ]
  },
  {
   "cell_type": "code",
   "execution_count": 86,
   "metadata": {
    "scrolled": true
   },
   "outputs": [],
   "source": [
    "vae.compile(optimizer='rmsprop', loss=vae_loss)"
   ]
  },
  {
   "cell_type": "code",
   "execution_count": 87,
   "metadata": {},
   "outputs": [
    {
     "data": {
      "image/svg+xml": [
       "<svg height=\"416pt\" viewBox=\"0.00 0.00 250.00 416.00\" width=\"250pt\" xmlns=\"http://www.w3.org/2000/svg\" xmlns:xlink=\"http://www.w3.org/1999/xlink\">\n",
       "<g class=\"graph\" id=\"graph0\" transform=\"scale(1 1) rotate(0) translate(4 412)\">\n",
       "<title>G</title>\n",
       "<polygon fill=\"white\" points=\"-4,4 -4,-412 246,-412 246,4 -4,4\" stroke=\"none\"/>\n",
       "<!-- 4700248656 -->\n",
       "<g class=\"node\" id=\"node1\"><title>4700248656</title>\n",
       "<polygon fill=\"none\" points=\"53,-371 53,-407 189,-407 189,-371 53,-371\" stroke=\"black\"/>\n",
       "<text font-family=\"Times,serif\" font-size=\"14.00\" text-anchor=\"middle\" x=\"121\" y=\"-385.3\">input_17: InputLayer</text>\n",
       "</g>\n",
       "<!-- 4680997072 -->\n",
       "<g class=\"node\" id=\"node2\"><title>4680997072</title>\n",
       "<polygon fill=\"none\" points=\"65,-297 65,-333 177,-333 177,-297 65,-297\" stroke=\"black\"/>\n",
       "<text font-family=\"Times,serif\" font-size=\"14.00\" text-anchor=\"middle\" x=\"121\" y=\"-311.3\">dense_49: Dense</text>\n",
       "</g>\n",
       "<!-- 4700248656&#45;&gt;4680997072 -->\n",
       "<g class=\"edge\" id=\"edge1\"><title>4700248656-&gt;4680997072</title>\n",
       "<path d=\"M121,-370.937C121,-362.807 121,-352.876 121,-343.705\" fill=\"none\" stroke=\"black\"/>\n",
       "<polygon fill=\"black\" points=\"124.5,-343.441 121,-333.441 117.5,-343.441 124.5,-343.441\" stroke=\"black\"/>\n",
       "</g>\n",
       "<!-- 4726858000 -->\n",
       "<g class=\"node\" id=\"node3\"><title>4726858000</title>\n",
       "<polygon fill=\"none\" points=\"0,-223 0,-259 112,-259 112,-223 0,-223\" stroke=\"black\"/>\n",
       "<text font-family=\"Times,serif\" font-size=\"14.00\" text-anchor=\"middle\" x=\"56\" y=\"-237.3\">dense_50: Dense</text>\n",
       "</g>\n",
       "<!-- 4680997072&#45;&gt;4726858000 -->\n",
       "<g class=\"edge\" id=\"edge2\"><title>4680997072-&gt;4726858000</title>\n",
       "<path d=\"M105.596,-296.937C97.5385,-288.012 87.5213,-276.916 78.6031,-267.037\" fill=\"none\" stroke=\"black\"/>\n",
       "<polygon fill=\"black\" points=\"81.0441,-264.518 71.7451,-259.441 75.8482,-269.209 81.0441,-264.518\" stroke=\"black\"/>\n",
       "</g>\n",
       "<!-- 4726859472 -->\n",
       "<g class=\"node\" id=\"node4\"><title>4726859472</title>\n",
       "<polygon fill=\"none\" points=\"130,-223 130,-259 242,-259 242,-223 130,-223\" stroke=\"black\"/>\n",
       "<text font-family=\"Times,serif\" font-size=\"14.00\" text-anchor=\"middle\" x=\"186\" y=\"-237.3\">dense_51: Dense</text>\n",
       "</g>\n",
       "<!-- 4680997072&#45;&gt;4726859472 -->\n",
       "<g class=\"edge\" id=\"edge3\"><title>4680997072-&gt;4726859472</title>\n",
       "<path d=\"M136.404,-296.937C144.461,-288.012 154.479,-276.916 163.397,-267.037\" fill=\"none\" stroke=\"black\"/>\n",
       "<polygon fill=\"black\" points=\"166.152,-269.209 170.255,-259.441 160.956,-264.518 166.152,-269.209\" stroke=\"black\"/>\n",
       "</g>\n",
       "<!-- 4689023376 -->\n",
       "<g class=\"node\" id=\"node5\"><title>4689023376</title>\n",
       "<polygon fill=\"none\" points=\"55,-149 55,-185 187,-185 187,-149 55,-149\" stroke=\"black\"/>\n",
       "<text font-family=\"Times,serif\" font-size=\"14.00\" text-anchor=\"middle\" x=\"121\" y=\"-163.3\">lambda_11: Lambda</text>\n",
       "</g>\n",
       "<!-- 4726858000&#45;&gt;4689023376 -->\n",
       "<g class=\"edge\" id=\"edge4\"><title>4726858000-&gt;4689023376</title>\n",
       "<path d=\"M71.4041,-222.937C79.4615,-214.012 89.4787,-202.916 98.3969,-193.037\" fill=\"none\" stroke=\"black\"/>\n",
       "<polygon fill=\"black\" points=\"101.152,-195.209 105.255,-185.441 95.9559,-190.518 101.152,-195.209\" stroke=\"black\"/>\n",
       "</g>\n",
       "<!-- 4726859472&#45;&gt;4689023376 -->\n",
       "<g class=\"edge\" id=\"edge5\"><title>4726859472-&gt;4689023376</title>\n",
       "<path d=\"M170.596,-222.937C162.539,-214.012 152.521,-202.916 143.603,-193.037\" fill=\"none\" stroke=\"black\"/>\n",
       "<polygon fill=\"black\" points=\"146.044,-190.518 136.745,-185.441 140.848,-195.209 146.044,-190.518\" stroke=\"black\"/>\n",
       "</g>\n",
       "<!-- 4726358736 -->\n",
       "<g class=\"node\" id=\"node6\"><title>4726358736</title>\n",
       "<polygon fill=\"none\" points=\"65,-75 65,-111 177,-111 177,-75 65,-75\" stroke=\"black\"/>\n",
       "<text font-family=\"Times,serif\" font-size=\"14.00\" text-anchor=\"middle\" x=\"121\" y=\"-89.3\">dense_52: Dense</text>\n",
       "</g>\n",
       "<!-- 4689023376&#45;&gt;4726358736 -->\n",
       "<g class=\"edge\" id=\"edge6\"><title>4689023376-&gt;4726358736</title>\n",
       "<path d=\"M121,-148.937C121,-140.807 121,-130.876 121,-121.705\" fill=\"none\" stroke=\"black\"/>\n",
       "<polygon fill=\"black\" points=\"124.5,-121.441 121,-111.441 117.5,-121.441 124.5,-121.441\" stroke=\"black\"/>\n",
       "</g>\n",
       "<!-- 4689024976 -->\n",
       "<g class=\"node\" id=\"node7\"><title>4689024976</title>\n",
       "<polygon fill=\"none\" points=\"65,-1 65,-37 177,-37 177,-1 65,-1\" stroke=\"black\"/>\n",
       "<text font-family=\"Times,serif\" font-size=\"14.00\" text-anchor=\"middle\" x=\"121\" y=\"-15.3\">dense_53: Dense</text>\n",
       "</g>\n",
       "<!-- 4726358736&#45;&gt;4689024976 -->\n",
       "<g class=\"edge\" id=\"edge7\"><title>4726358736-&gt;4689024976</title>\n",
       "<path d=\"M121,-74.937C121,-66.8072 121,-56.8761 121,-47.7047\" fill=\"none\" stroke=\"black\"/>\n",
       "<polygon fill=\"black\" points=\"124.5,-47.4406 121,-37.4407 117.5,-47.4407 124.5,-47.4406\" stroke=\"black\"/>\n",
       "</g>\n",
       "</g>\n",
       "</svg>"
      ],
      "text/plain": [
       "<IPython.core.display.SVG object>"
      ]
     },
     "execution_count": 87,
     "metadata": {},
     "output_type": "execute_result"
    }
   ],
   "source": [
    "from IPython.display import SVG\n",
    "from keras.utils.vis_utils import model_to_dot\n",
    "\n",
    "SVG(model_to_dot(vae).create(prog='dot', format='svg'))"
   ]
  },
  {
   "cell_type": "code",
   "execution_count": 88,
   "metadata": {},
   "outputs": [
    {
     "name": "stdout",
     "output_type": "stream",
     "text": [
      "Train on 55000 samples, validate on 10000 samples\n",
      "Epoch 1/10\n",
      "55000/55000 [==============================] - 5s - loss: 0.2743 - val_loss: 0.2567\n",
      "Epoch 2/10\n",
      "55000/55000 [==============================] - 4s - loss: 0.2523 - val_loss: 0.2450\n",
      "Epoch 3/10\n",
      "55000/55000 [==============================] - 4s - loss: 0.2393 - val_loss: 0.2318\n",
      "Epoch 4/10\n",
      "55000/55000 [==============================] - 4s - loss: 0.2269 - val_loss: 0.2199\n",
      "Epoch 5/10\n",
      "55000/55000 [==============================] - 5s - loss: 0.2165 - val_loss: 0.2134\n",
      "Epoch 6/10\n",
      "55000/55000 [==============================] - 5s - loss: 0.2118 - val_loss: 0.2097\n",
      "Epoch 7/10\n",
      "55000/55000 [==============================] - 5s - loss: 0.2091 - val_loss: 0.2072\n",
      "Epoch 8/10\n",
      "55000/55000 [==============================] - 5s - loss: 0.2074 - val_loss: 0.2056\n",
      "Epoch 9/10\n",
      "55000/55000 [==============================] - 5s - loss: 0.2058 - val_loss: 0.2040\n",
      "Epoch 10/10\n",
      "55000/55000 [==============================] - 5s - loss: 0.2046 - val_loss: 0.2030\n"
     ]
    }
   ],
   "source": [
    "history = vae.fit(mnist.train.images, mnist.train.images, batch_size=128, epochs=10,\n",
    "                  validation_data=(mnist.test.images, mnist.test.images))"
   ]
  },
  {
   "cell_type": "code",
   "execution_count": 89,
   "metadata": {},
   "outputs": [
    {
     "data": {
      "image/png": "[encoded data removed]",
      "text/plain": [
       "<matplotlib.figure.Figure at 0x1174c7910>"
      ]
     },
     "metadata": {},
     "output_type": "display_data"
    }
   ],
   "source": [
    "fig, fig_ax = plt.subplots(nrows=2, ncols=8, figsize=(12,3))\n",
    "for i in range(8):\n",
    "    random_image = mnist.test.images[np.random.randint(0, 10000, 1), :]\n",
    "    plt.subplot(2,8,i+1)\n",
    "    plt.imshow(random_image.reshape((28,28)), cmap='gray')\n",
    "    plt.gca().set_xticks([])\n",
    "    plt.gca().set_yticks([])\n",
    "    \n",
    "    plt.subplot(2,8,i+9)\n",
    "    plt.imshow(vae.predict(random_image).reshape((28,28)), cmap='gray')\n",
    "    plt.gca().set_xticks([])\n",
    "    plt.gca().set_yticks([])"
   ]
  },
  {
   "cell_type": "code",
   "execution_count": 90,
   "metadata": {},
   "outputs": [
    {
     "data": {
      "text/plain": [
       "[]"
      ]
     },
     "execution_count": 90,
     "metadata": {},
     "output_type": "execute_result"
    },
    {
     "data": {
      "image/png": "[encoded data removed]",
      "text/plain": [
       "<matplotlib.figure.Figure at 0x11ae1fad0>"
      ]
     },
     "metadata": {},
     "output_type": "display_data"
    }
   ],
   "source": [
    "z_sample = np.random.normal(size=(1, encoding_dim))\n",
    "plt.imshow(decoder.predict(z_sample).reshape((28,28)), cmap='gray')\n",
    "plt.gca().set_xticks([])\n",
    "plt.gca().set_yticks([])"
   ]
  },
  {
   "cell_type": "code",
   "execution_count": 100,
   "metadata": {},
   "outputs": [
    {
     "data": {
      "text/plain": [
       "[]"
      ]
     },
     "execution_count": 100,
     "metadata": {},
     "output_type": "execute_result"
    },
    {
     "data": {
      "image/png": "[encoded data removed]",
      "text/plain": [
       "<matplotlib.figure.Figure at 0x11b04ffd0>"
      ]
     },
     "metadata": {},
     "output_type": "display_data"
    }
   ],
   "source": [
    "# this code works well when the encodimg dim = 2\n",
    "\n",
    "n = 15\n",
    "digit_size = 28\n",
    "grid_x = scipy.stats.norm.ppf(np.linspace(0.05, 0.95, n))\n",
    "grid_y = scipy.stats.norm.ppf(np.linspace(0.05, 0.95, n))\n",
    "\n",
    "figure = np.zeros((digit_size * n, digit_size * n))\n",
    "for i, yi in enumerate(grid_y):\n",
    "    for j, xj in enumerate(grid_x):\n",
    "#         z_sample = np.array([[xj, yi]])\n",
    "        z_sample = np.concatenate([np.repeat(grid_x[1], encoding_dim/2), np.repeat(grid_x[-1], encoding_dim/2)])\n",
    "        z_sample = np.expand_dims(z_sample, 0)\n",
    "        x_decoded = decoder.predict(z_sample)[0]\n",
    "        digit = x_decoded.reshape(digit_size, digit_size)\n",
    "        figure[i*digit_size : (i+1)*digit_size,\n",
    "               j*digit_size : (j+1)*digit_size] = digit\n",
    "        \n",
    "plt.figure(figsize=(10,10))\n",
    "plt.imshow(figure, cmap='gray')\n",
    "plt.gca().set_xticks([])\n",
    "plt.gca().set_yticks([])"
   ]
  },
  {
   "cell_type": "markdown",
   "metadata": {},
   "source": [
    "## conditional VAE"
   ]
  },
  {
   "cell_type": "code",
   "execution_count": 113,
   "metadata": {},
   "outputs": [
    {
     "name": "stdout",
     "output_type": "stream",
     "text": [
      "Extracting MNIST_data/train-images-idx3-ubyte.gz\n",
      "Extracting MNIST_data/train-labels-idx1-ubyte.gz\n",
      "Extracting MNIST_data/t10k-images-idx3-ubyte.gz\n",
      "Extracting MNIST_data/t10k-labels-idx1-ubyte.gz\n"
     ]
    }
   ],
   "source": [
    "from tensorflow.examples.tutorials.mnist import input_data\n",
    "mnist = input_data.read_data_sets(\"MNIST_data/\", one_hot=True)"
   ]
  },
  {
   "cell_type": "code",
   "execution_count": 114,
   "metadata": {
    "collapsed": true
   },
   "outputs": [],
   "source": [
    "input_dim = 784\n",
    "intermediate_dim = 200\n",
    "encoding_dim = 100\n",
    "y_dim = 10"
   ]
  },
  {
   "cell_type": "code",
   "execution_count": 115,
   "metadata": {
    "collapsed": true
   },
   "outputs": [],
   "source": [
    "def sample_Z(args):\n",
    "    z_mean, z_log_sigma = args\n",
    "    epsilon = tf.random_normal(tf.shape(z_mean), mean=0, stddev=1)\n",
    "    return z_mean + tf.exp(z_log_sigma) * epsilon"
   ]
  },
  {
   "cell_type": "code",
   "execution_count": 116,
   "metadata": {
    "collapsed": true
   },
   "outputs": [],
   "source": [
    "x = Input(shape=(input_dim,))\n",
    "y = Input(shape=(y_dim,))\n",
    "encoder_merged = concatenate([x,y])\n",
    "encoder_h = Dense(intermediate_dim, activation='relu')(encoder_merged)\n",
    "z_mean = Dense(encoding_dim)(encoder_h)\n",
    "z_log_sigma = Dense(encoding_dim)(encoder_h)\n",
    "\n",
    "z = Lambda(sample_Z, output_shape=(encoding_dim,))([z_mean, z_log_sigma])\n",
    "decoder_merged = concatenate([z,y])\n",
    "decoder_h = Dense(intermediate_dim, activation='relu')(decoder_merged)\n",
    "decoder_x_mean = Dense(input_dim, activation='sigmoid')(decoder_h)"
   ]
  },
  {
   "cell_type": "code",
   "execution_count": 117,
   "metadata": {
    "collapsed": true
   },
   "outputs": [],
   "source": [
    "def vae_loss(x, decoder_x_mean):\n",
    "    cross_entropy_loss = losses.binary_crossentropy(x, decoder_x_mean)\n",
    "    kl_div_loss = - 0.5 * tf.reduce_mean(1 + z_log_sigma - tf.square(z_mean) - tf.exp(z_log_sigma), axis=-1)\n",
    "    return cross_entropy_loss + kl_div_loss"
   ]
  },
  {
   "cell_type": "code",
   "execution_count": 119,
   "metadata": {},
   "outputs": [],
   "source": [
    "vae = Model([x,y], decoder_x_mean)\n",
    "\n",
    "encoder = Model([x,y], z_mean)\n",
    "\n",
    "_decoder_input = Input(shape=(encoding_dim,))\n",
    "_decoder_merged = concatenate([_decoder_input, y])\n",
    "_decoder_h = vae.layers[-2](_decoder_merged)\n",
    "_decoder_x_mean = vae.layers[-1](_decoder_h)\n",
    "\n",
    "decoder = Model([_decoder_input,y], _decoder_x_mean)"
   ]
  },
  {
   "cell_type": "code",
   "execution_count": 122,
   "metadata": {
    "collapsed": true
   },
   "outputs": [],
   "source": [
    "vae.compile(optimizer='rmsprop', loss=vae_loss)"
   ]
  },
  {
   "cell_type": "code",
   "execution_count": 123,
   "metadata": {},
   "outputs": [
    {
     "name": "stdout",
     "output_type": "stream",
     "text": [
      "Train on 55000 samples, validate on 10000 samples\n",
      "Epoch 1/10\n",
      "55000/55000 [==============================] - 5s - loss: 0.2627 - val_loss: 0.2284\n",
      "Epoch 2/10\n",
      "55000/55000 [==============================] - 5s - loss: 0.2213 - val_loss: 0.2171\n",
      "Epoch 3/10\n",
      "55000/55000 [==============================] - 5s - loss: 0.2144 - val_loss: 0.2084\n",
      "Epoch 4/10\n",
      "55000/55000 [==============================] - 5s - loss: 0.2044 - val_loss: 0.1999\n",
      "Epoch 5/10\n",
      "55000/55000 [==============================] - 5s - loss: 0.1981 - val_loss: 0.1950\n",
      "Epoch 6/10\n",
      "55000/55000 [==============================] - 5s - loss: 0.1947 - val_loss: 0.1929\n",
      "Epoch 7/10\n",
      "55000/55000 [==============================] - 5s - loss: 0.1926 - val_loss: 0.1913\n",
      "Epoch 8/10\n",
      "55000/55000 [==============================] - 5s - loss: 0.1910 - val_loss: 0.1901\n",
      "Epoch 9/10\n",
      "55000/55000 [==============================] - 6s - loss: 0.1899 - val_loss: 0.1891\n",
      "Epoch 10/10\n",
      "55000/55000 [==============================] - 6s - loss: 0.1889 - val_loss: 0.1879\n"
     ]
    }
   ],
   "source": [
    "history = vae.fit([mnist.train.images, mnist.train.labels], mnist.train.images, batch_size=128, epochs=10,\n",
    "                  validation_data=([mnist.test.images, mnist.test.labels], mnist.test.images))"
   ]
  },
  {
   "cell_type": "code",
   "execution_count": 129,
   "metadata": {},
   "outputs": [
    {
     "data": {
      "image/png": "[encoded data removed]",
      "text/plain": [
       "<matplotlib.figure.Figure at 0x119e64ed0>"
      ]
     },
     "metadata": {},
     "output_type": "display_data"
    }
   ],
   "source": [
    "fig, fig_ax = plt.subplots(nrows=2, ncols=8, figsize=(12,3))\n",
    "for i in range(8):\n",
    "    random_number = np.random.randint(0, 10000, 1)\n",
    "    image, label = mnist.test.images[random_number, :], mnist.test.labels[random_number, :]\n",
    "    plt.subplot(2,8,i+1)\n",
    "    plt.imshow(image.reshape((28,28)), cmap='gray')\n",
    "    plt.gca().set_xticks([])\n",
    "    plt.gca().set_yticks([])\n",
    "    \n",
    "    plt.subplot(2,8,i+9)\n",
    "    plt.imshow(vae.predict([image, label]).reshape((28,28)), cmap='gray')\n",
    "    plt.gca().set_xticks([])\n",
    "    plt.gca().set_yticks([])"
   ]
  },
  {
   "cell_type": "code",
   "execution_count": 134,
   "metadata": {},
   "outputs": [
    {
     "name": "stdout",
     "output_type": "stream",
     "text": [
      "7\n"
     ]
    },
    {
     "data": {
      "text/plain": [
       "[]"
      ]
     },
     "execution_count": 134,
     "metadata": {},
     "output_type": "execute_result"
    },
    {
     "data": {
      "image/png": "[encoded data removed]",
      "text/plain": [
       "<matplotlib.figure.Figure at 0x11f7f8e10>"
      ]
     },
     "metadata": {},
     "output_type": "display_data"
    }
   ],
   "source": [
    "z_sample = np.random.normal(size=(1, encoding_dim))\n",
    "\n",
    "n_samples = 1\n",
    "y_sample = np.zeros(shape=[n_samples, y_dim])\n",
    "for k in range(n_samples):\n",
    "    digit = np.random.randint(0, y_dim)\n",
    "    print digit\n",
    "    y_sample[k, digit] = 1\n",
    "\n",
    "plt.imshow(decoder.predict([z_sample, y_sample]).reshape((28,28)), cmap='gray')\n",
    "plt.gca().set_xticks([])\n",
    "plt.gca().set_yticks([])"
   ]
  },
  {
   "cell_type": "markdown",
   "metadata": {},
   "source": [
    "## convolutional VAE"
   ]
  },
  {
   "cell_type": "code",
   "execution_count": 66,
   "metadata": {},
   "outputs": [
    {
     "name": "stdout",
     "output_type": "stream",
     "text": [
      "Extracting MNIST_data/train-images-idx3-ubyte.gz\n",
      "Extracting MNIST_data/train-labels-idx1-ubyte.gz\n",
      "Extracting MNIST_data/t10k-images-idx3-ubyte.gz\n",
      "Extracting MNIST_data/t10k-labels-idx1-ubyte.gz\n"
     ]
    }
   ],
   "source": [
    "from tensorflow.examples.tutorials.mnist import input_data\n",
    "mnist = input_data.read_data_sets(\"MNIST_data/\", one_hot=True)"
   ]
  },
  {
   "cell_type": "code",
   "execution_count": 67,
   "metadata": {
    "collapsed": true
   },
   "outputs": [],
   "source": [
    "input_dim = 784\n",
    "intermediate_dim = 2\n",
    "encoding_dim = 100\n",
    "num_filters = 100"
   ]
  },
  {
   "cell_type": "code",
   "execution_count": 68,
   "metadata": {
    "collapsed": true
   },
   "outputs": [],
   "source": [
    "def sample_Z(args):\n",
    "    z_mean, z_log_sigma = args\n",
    "    epsilon = tf.random_normal(tf.shape(z_mean), mean=0, stddev=1)\n",
    "    return z_mean + tf.exp(z_log_sigma) * epsilon"
   ]
  },
  {
   "cell_type": "code",
   "execution_count": 69,
   "metadata": {},
   "outputs": [],
   "source": [
    "x = Input(shape=(input_dim,))\n",
    "encoder_h = Reshape((28,28,1))(x)\n",
    "encoder_h = Conv2D(num_filters, (3,3), padding='same', activation='relu')(encoder_h)\n",
    "encoder_h = MaxPooling2D((2,2))(encoder_h)\n",
    "encoder_h = Flatten()(encoder_h)\n",
    "encoder_h = Dense(intermediate_dim, activation='relu')(encoder_h)\n",
    "\n",
    "z_mean = Dense(encoding_dim)(encoder_h)\n",
    "z_log_sigma = Dense(encoding_dim)(encoder_h)\n",
    "z = Lambda(sample_Z, output_shape=(encoding_dim,))([z_mean, z_log_sigma])\n",
    "\n",
    "decoder_h = Dense(intermediate_dim, activation='relu')(z)\n",
    "decoder_h = Dense(14*14*num_filters, activation='relu')(decoder_h)\n",
    "decoder_h = Reshape((14, 14, num_filters))(decoder_h)\n",
    "decoder_h = Conv2D(num_filters, (3,3), padding='same', activation='relu')(decoder_h)\n",
    "decoder_h = UpSampling2D((2,2))(decoder_h)\n",
    "decoder_h = Conv2D(1, (3,3), padding='same', activation='sigmoid')(decoder_h)\n",
    "decoder_x_mean = Reshape((784,))(decoder_h)\n",
    "\n",
    "vae = Model(x, decoder_x_mean)"
   ]
  },
  {
   "cell_type": "code",
   "execution_count": 70,
   "metadata": {},
   "outputs": [],
   "source": [
    "def vae_loss(x, decoder_x_mean):\n",
    "    cross_entropy_loss = losses.binary_crossentropy(x, decoder_x_mean)\n",
    "    kl_div_loss = - 0.5 * tf.reduce_mean(1 + z_log_sigma - tf.square(z_mean) - tf.exp(z_log_sigma), axis=-1)\n",
    "    return cross_entropy_loss + kl_div_loss"
   ]
  },
  {
   "cell_type": "code",
   "execution_count": 71,
   "metadata": {},
   "outputs": [],
   "source": [
    "encoder = Model(x, z_mean)\n",
    "\n",
    "_decoder_input = Input(shape=(encoding_dim,))\n",
    "_decoder_h = None\n",
    "for i in range(-7, 0):\n",
    "    if _decoder_h is None:\n",
    "        _decoder_h = vae.layers[i](_decoder_input)\n",
    "    else:\n",
    "        _decoder_h = vae.layers[i](_decoder_h)\n",
    "_decoder_x_mean = vae.layers[-1](_decoder_h)\n",
    "\n",
    "decoder = Model(_decoder_input, _decoder_x_mean)"
   ]
  },
  {
   "cell_type": "code",
   "execution_count": 72,
   "metadata": {
    "collapsed": true
   },
   "outputs": [],
   "source": [
    "vae.compile(optimizer='rmsprop', loss=vae_loss)"
   ]
  },
  {
   "cell_type": "code",
   "execution_count": 73,
   "metadata": {},
   "outputs": [
    {
     "name": "stdout",
     "output_type": "stream",
     "text": [
      "Train on 55000 samples, validate on 10000 samples\n",
      "Epoch 1/10\n",
      "55000/55000 [==============================] - 16s - loss: 0.3639 - val_loss: 0.2691\n",
      "Epoch 2/10\n",
      "55000/55000 [==============================] - 16s - loss: 0.2663 - val_loss: 0.2647\n",
      "Epoch 3/10\n",
      "55000/55000 [==============================] - 18s - loss: 0.2645 - val_loss: 0.2641\n",
      "Epoch 4/10\n",
      "55000/55000 [==============================] - 18s - loss: 0.2641 - val_loss: 0.2638\n",
      "Epoch 5/10\n",
      "55000/55000 [==============================] - 18s - loss: 0.2640 - val_loss: 0.2638\n",
      "Epoch 6/10\n",
      "55000/55000 [==============================] - 18s - loss: 0.2639 - val_loss: 0.2636\n",
      "Epoch 7/10\n",
      "55000/55000 [==============================] - 18s - loss: 0.2638 - val_loss: 0.2636\n",
      "Epoch 8/10\n",
      "55000/55000 [==============================] - 17s - loss: 0.2638 - val_loss: 0.2636\n",
      "Epoch 9/10\n",
      "55000/55000 [==============================] - 17s - loss: 0.2638 - val_loss: 0.2635\n",
      "Epoch 10/10\n",
      "55000/55000 [==============================] - 18s - loss: 0.2638 - val_loss: 0.2636\n"
     ]
    }
   ],
   "source": [
    "history = vae.fit(mnist.train.images, mnist.train.images, batch_size=128, epochs=10,\n",
    "                  validation_data=(mnist.test.images, mnist.test.images))"
   ]
  },
  {
   "cell_type": "code",
   "execution_count": 26,
   "metadata": {
    "scrolled": true
   },
   "outputs": [
    {
     "data": {
      "image/svg+xml": [
       "<svg height=\"1082pt\" viewBox=\"0.00 0.00 250.00 1082.00\" width=\"250pt\" xmlns=\"http://www.w3.org/2000/svg\" xmlns:xlink=\"http://www.w3.org/1999/xlink\">\n",
       "<g class=\"graph\" id=\"graph0\" transform=\"scale(1 1) rotate(0) translate(4 1078)\">\n",
       "<title>G</title>\n",
       "<polygon fill=\"white\" points=\"-4,4 -4,-1078 246,-1078 246,4 -4,4\" stroke=\"none\"/>\n",
       "<!-- 4632833360 -->\n",
       "<g class=\"node\" id=\"node1\"><title>4632833360</title>\n",
       "<polygon fill=\"none\" points=\"56.5,-1037 56.5,-1073 185.5,-1073 185.5,-1037 56.5,-1037\" stroke=\"black\"/>\n",
       "<text font-family=\"Times,serif\" font-size=\"14.00\" text-anchor=\"middle\" x=\"121\" y=\"-1051.3\">input_8: InputLayer</text>\n",
       "</g>\n",
       "<!-- 4651900688 -->\n",
       "<g class=\"node\" id=\"node2\"><title>4651900688</title>\n",
       "<polygon fill=\"none\" points=\"53.5,-963 53.5,-999 188.5,-999 188.5,-963 53.5,-963\" stroke=\"black\"/>\n",
       "<text font-family=\"Times,serif\" font-size=\"14.00\" text-anchor=\"middle\" x=\"121\" y=\"-977.3\">reshape_13: Reshape</text>\n",
       "</g>\n",
       "<!-- 4632833360&#45;&gt;4651900688 -->\n",
       "<g class=\"edge\" id=\"edge1\"><title>4632833360-&gt;4651900688</title>\n",
       "<path d=\"M121,-1036.94C121,-1028.81 121,-1018.88 121,-1009.7\" fill=\"none\" stroke=\"black\"/>\n",
       "<polygon fill=\"black\" points=\"124.5,-1009.44 121,-999.441 117.5,-1009.44 124.5,-1009.44\" stroke=\"black\"/>\n",
       "</g>\n",
       "<!-- 4650307536 -->\n",
       "<g class=\"node\" id=\"node3\"><title>4650307536</title>\n",
       "<polygon fill=\"none\" points=\"54,-889 54,-925 188,-925 188,-889 54,-889\" stroke=\"black\"/>\n",
       "<text font-family=\"Times,serif\" font-size=\"14.00\" text-anchor=\"middle\" x=\"121\" y=\"-903.3\">conv2d_12: Conv2D</text>\n",
       "</g>\n",
       "<!-- 4651900688&#45;&gt;4650307536 -->\n",
       "<g class=\"edge\" id=\"edge2\"><title>4651900688-&gt;4650307536</title>\n",
       "<path d=\"M121,-962.937C121,-954.807 121,-944.876 121,-935.705\" fill=\"none\" stroke=\"black\"/>\n",
       "<polygon fill=\"black\" points=\"124.5,-935.441 121,-925.441 117.5,-935.441 124.5,-935.441\" stroke=\"black\"/>\n",
       "</g>\n",
       "<!-- 4632832592 -->\n",
       "<g class=\"node\" id=\"node4\"><title>4632832592</title>\n",
       "<polygon fill=\"none\" points=\"15,-815 15,-851 227,-851 227,-815 15,-815\" stroke=\"black\"/>\n",
       "<text font-family=\"Times,serif\" font-size=\"14.00\" text-anchor=\"middle\" x=\"121\" y=\"-829.3\">max_pooling2d_6: MaxPooling2D</text>\n",
       "</g>\n",
       "<!-- 4650307536&#45;&gt;4632832592 -->\n",
       "<g class=\"edge\" id=\"edge3\"><title>4650307536-&gt;4632832592</title>\n",
       "<path d=\"M121,-888.937C121,-880.807 121,-870.876 121,-861.705\" fill=\"none\" stroke=\"black\"/>\n",
       "<polygon fill=\"black\" points=\"124.5,-861.441 121,-851.441 117.5,-861.441 124.5,-861.441\" stroke=\"black\"/>\n",
       "</g>\n",
       "<!-- 4651900752 -->\n",
       "<g class=\"node\" id=\"node5\"><title>4651900752</title>\n",
       "<polygon fill=\"none\" points=\"65,-741 65,-777 177,-777 177,-741 65,-741\" stroke=\"black\"/>\n",
       "<text font-family=\"Times,serif\" font-size=\"14.00\" text-anchor=\"middle\" x=\"121\" y=\"-755.3\">flatten_6: Flatten</text>\n",
       "</g>\n",
       "<!-- 4632832592&#45;&gt;4651900752 -->\n",
       "<g class=\"edge\" id=\"edge4\"><title>4632832592-&gt;4651900752</title>\n",
       "<path d=\"M121,-814.937C121,-806.807 121,-796.876 121,-787.705\" fill=\"none\" stroke=\"black\"/>\n",
       "<polygon fill=\"black\" points=\"124.5,-787.441 121,-777.441 117.5,-787.441 124.5,-787.441\" stroke=\"black\"/>\n",
       "</g>\n",
       "<!-- 4652049680 -->\n",
       "<g class=\"node\" id=\"node6\"><title>4652049680</title>\n",
       "<polygon fill=\"none\" points=\"65,-667 65,-703 177,-703 177,-667 65,-667\" stroke=\"black\"/>\n",
       "<text font-family=\"Times,serif\" font-size=\"14.00\" text-anchor=\"middle\" x=\"121\" y=\"-681.3\">dense_29: Dense</text>\n",
       "</g>\n",
       "<!-- 4651900752&#45;&gt;4652049680 -->\n",
       "<g class=\"edge\" id=\"edge5\"><title>4651900752-&gt;4652049680</title>\n",
       "<path d=\"M121,-740.937C121,-732.807 121,-722.876 121,-713.705\" fill=\"none\" stroke=\"black\"/>\n",
       "<polygon fill=\"black\" points=\"124.5,-713.441 121,-703.441 117.5,-713.441 124.5,-713.441\" stroke=\"black\"/>\n",
       "</g>\n",
       "<!-- 4651935696 -->\n",
       "<g class=\"node\" id=\"node7\"><title>4651935696</title>\n",
       "<polygon fill=\"none\" points=\"0,-593 0,-629 112,-629 112,-593 0,-593\" stroke=\"black\"/>\n",
       "<text font-family=\"Times,serif\" font-size=\"14.00\" text-anchor=\"middle\" x=\"56\" y=\"-607.3\">dense_30: Dense</text>\n",
       "</g>\n",
       "<!-- 4652049680&#45;&gt;4651935696 -->\n",
       "<g class=\"edge\" id=\"edge6\"><title>4652049680-&gt;4651935696</title>\n",
       "<path d=\"M105.596,-666.937C97.5385,-658.012 87.5213,-646.916 78.6031,-637.037\" fill=\"none\" stroke=\"black\"/>\n",
       "<polygon fill=\"black\" points=\"81.0441,-634.518 71.7451,-629.441 75.8482,-639.209 81.0441,-634.518\" stroke=\"black\"/>\n",
       "</g>\n",
       "<!-- 4651933968 -->\n",
       "<g class=\"node\" id=\"node8\"><title>4651933968</title>\n",
       "<polygon fill=\"none\" points=\"130,-593 130,-629 242,-629 242,-593 130,-593\" stroke=\"black\"/>\n",
       "<text font-family=\"Times,serif\" font-size=\"14.00\" text-anchor=\"middle\" x=\"186\" y=\"-607.3\">dense_31: Dense</text>\n",
       "</g>\n",
       "<!-- 4652049680&#45;&gt;4651933968 -->\n",
       "<g class=\"edge\" id=\"edge7\"><title>4652049680-&gt;4651933968</title>\n",
       "<path d=\"M136.404,-666.937C144.461,-658.012 154.479,-646.916 163.397,-637.037\" fill=\"none\" stroke=\"black\"/>\n",
       "<polygon fill=\"black\" points=\"166.152,-639.209 170.255,-629.441 160.956,-634.518 166.152,-639.209\" stroke=\"black\"/>\n",
       "</g>\n",
       "<!-- 4652420496 -->\n",
       "<g class=\"node\" id=\"node9\"><title>4652420496</title>\n",
       "<polygon fill=\"none\" points=\"58.5,-519 58.5,-555 183.5,-555 183.5,-519 58.5,-519\" stroke=\"black\"/>\n",
       "<text font-family=\"Times,serif\" font-size=\"14.00\" text-anchor=\"middle\" x=\"121\" y=\"-533.3\">lambda_7: Lambda</text>\n",
       "</g>\n",
       "<!-- 4651935696&#45;&gt;4652420496 -->\n",
       "<g class=\"edge\" id=\"edge8\"><title>4651935696-&gt;4652420496</title>\n",
       "<path d=\"M71.4041,-592.937C79.4615,-584.012 89.4787,-572.916 98.3969,-563.037\" fill=\"none\" stroke=\"black\"/>\n",
       "<polygon fill=\"black\" points=\"101.152,-565.209 105.255,-555.441 95.9559,-560.518 101.152,-565.209\" stroke=\"black\"/>\n",
       "</g>\n",
       "<!-- 4651933968&#45;&gt;4652420496 -->\n",
       "<g class=\"edge\" id=\"edge9\"><title>4651933968-&gt;4652420496</title>\n",
       "<path d=\"M170.596,-592.937C162.539,-584.012 152.521,-572.916 143.603,-563.037\" fill=\"none\" stroke=\"black\"/>\n",
       "<polygon fill=\"black\" points=\"146.044,-560.518 136.745,-555.441 140.848,-565.209 146.044,-560.518\" stroke=\"black\"/>\n",
       "</g>\n",
       "<!-- 4652338512 -->\n",
       "<g class=\"node\" id=\"node10\"><title>4652338512</title>\n",
       "<polygon fill=\"none\" points=\"65,-445 65,-481 177,-481 177,-445 65,-445\" stroke=\"black\"/>\n",
       "<text font-family=\"Times,serif\" font-size=\"14.00\" text-anchor=\"middle\" x=\"121\" y=\"-459.3\">dense_32: Dense</text>\n",
       "</g>\n",
       "<!-- 4652420496&#45;&gt;4652338512 -->\n",
       "<g class=\"edge\" id=\"edge10\"><title>4652420496-&gt;4652338512</title>\n",
       "<path d=\"M121,-518.937C121,-510.807 121,-500.876 121,-491.705\" fill=\"none\" stroke=\"black\"/>\n",
       "<polygon fill=\"black\" points=\"124.5,-491.441 121,-481.441 117.5,-491.441 124.5,-491.441\" stroke=\"black\"/>\n",
       "</g>\n",
       "<!-- 4652417744 -->\n",
       "<g class=\"node\" id=\"node11\"><title>4652417744</title>\n",
       "<polygon fill=\"none\" points=\"65,-371 65,-407 177,-407 177,-371 65,-371\" stroke=\"black\"/>\n",
       "<text font-family=\"Times,serif\" font-size=\"14.00\" text-anchor=\"middle\" x=\"121\" y=\"-385.3\">dense_33: Dense</text>\n",
       "</g>\n",
       "<!-- 4652338512&#45;&gt;4652417744 -->\n",
       "<g class=\"edge\" id=\"edge11\"><title>4652338512-&gt;4652417744</title>\n",
       "<path d=\"M121,-444.937C121,-436.807 121,-426.876 121,-417.705\" fill=\"none\" stroke=\"black\"/>\n",
       "<polygon fill=\"black\" points=\"124.5,-417.441 121,-407.441 117.5,-417.441 124.5,-417.441\" stroke=\"black\"/>\n",
       "</g>\n",
       "<!-- 4665500816 -->\n",
       "<g class=\"node\" id=\"node12\"><title>4665500816</title>\n",
       "<polygon fill=\"none\" points=\"53.5,-297 53.5,-333 188.5,-333 188.5,-297 53.5,-297\" stroke=\"black\"/>\n",
       "<text font-family=\"Times,serif\" font-size=\"14.00\" text-anchor=\"middle\" x=\"121\" y=\"-311.3\">reshape_14: Reshape</text>\n",
       "</g>\n",
       "<!-- 4652417744&#45;&gt;4665500816 -->\n",
       "<g class=\"edge\" id=\"edge12\"><title>4652417744-&gt;4665500816</title>\n",
       "<path d=\"M121,-370.937C121,-362.807 121,-352.876 121,-343.705\" fill=\"none\" stroke=\"black\"/>\n",
       "<polygon fill=\"black\" points=\"124.5,-343.441 121,-333.441 117.5,-343.441 124.5,-343.441\" stroke=\"black\"/>\n",
       "</g>\n",
       "<!-- 4650976912 -->\n",
       "<g class=\"node\" id=\"node13\"><title>4650976912</title>\n",
       "<polygon fill=\"none\" points=\"54,-223 54,-259 188,-259 188,-223 54,-223\" stroke=\"black\"/>\n",
       "<text font-family=\"Times,serif\" font-size=\"14.00\" text-anchor=\"middle\" x=\"121\" y=\"-237.3\">conv2d_13: Conv2D</text>\n",
       "</g>\n",
       "<!-- 4665500816&#45;&gt;4650976912 -->\n",
       "<g class=\"edge\" id=\"edge13\"><title>4665500816-&gt;4650976912</title>\n",
       "<path d=\"M121,-296.937C121,-288.807 121,-278.876 121,-269.705\" fill=\"none\" stroke=\"black\"/>\n",
       "<polygon fill=\"black\" points=\"124.5,-269.441 121,-259.441 117.5,-269.441 124.5,-269.441\" stroke=\"black\"/>\n",
       "</g>\n",
       "<!-- 4666207312 -->\n",
       "<g class=\"node\" id=\"node14\"><title>4666207312</title>\n",
       "<polygon fill=\"none\" points=\"15,-149 15,-185 227,-185 227,-149 15,-149\" stroke=\"black\"/>\n",
       "<text font-family=\"Times,serif\" font-size=\"14.00\" text-anchor=\"middle\" x=\"121\" y=\"-163.3\">up_sampling2d_4: UpSampling2D</text>\n",
       "</g>\n",
       "<!-- 4650976912&#45;&gt;4666207312 -->\n",
       "<g class=\"edge\" id=\"edge14\"><title>4650976912-&gt;4666207312</title>\n",
       "<path d=\"M121,-222.937C121,-214.807 121,-204.876 121,-195.705\" fill=\"none\" stroke=\"black\"/>\n",
       "<polygon fill=\"black\" points=\"124.5,-195.441 121,-185.441 117.5,-195.441 124.5,-195.441\" stroke=\"black\"/>\n",
       "</g>\n",
       "<!-- 4651448784 -->\n",
       "<g class=\"node\" id=\"node15\"><title>4651448784</title>\n",
       "<polygon fill=\"none\" points=\"54,-75 54,-111 188,-111 188,-75 54,-75\" stroke=\"black\"/>\n",
       "<text font-family=\"Times,serif\" font-size=\"14.00\" text-anchor=\"middle\" x=\"121\" y=\"-89.3\">conv2d_14: Conv2D</text>\n",
       "</g>\n",
       "<!-- 4666207312&#45;&gt;4651448784 -->\n",
       "<g class=\"edge\" id=\"edge15\"><title>4666207312-&gt;4651448784</title>\n",
       "<path d=\"M121,-148.937C121,-140.807 121,-130.876 121,-121.705\" fill=\"none\" stroke=\"black\"/>\n",
       "<polygon fill=\"black\" points=\"124.5,-121.441 121,-111.441 117.5,-121.441 124.5,-121.441\" stroke=\"black\"/>\n",
       "</g>\n",
       "<!-- 4666356816 -->\n",
       "<g class=\"node\" id=\"node16\"><title>4666356816</title>\n",
       "<polygon fill=\"none\" points=\"53.5,-1 53.5,-37 188.5,-37 188.5,-1 53.5,-1\" stroke=\"black\"/>\n",
       "<text font-family=\"Times,serif\" font-size=\"14.00\" text-anchor=\"middle\" x=\"121\" y=\"-15.3\">reshape_15: Reshape</text>\n",
       "</g>\n",
       "<!-- 4651448784&#45;&gt;4666356816 -->\n",
       "<g class=\"edge\" id=\"edge16\"><title>4651448784-&gt;4666356816</title>\n",
       "<path d=\"M121,-74.937C121,-66.8072 121,-56.8761 121,-47.7047\" fill=\"none\" stroke=\"black\"/>\n",
       "<polygon fill=\"black\" points=\"124.5,-47.4406 121,-37.4407 117.5,-47.4407 124.5,-47.4406\" stroke=\"black\"/>\n",
       "</g>\n",
       "</g>\n",
       "</svg>"
      ],
      "text/plain": [
       "<IPython.core.display.SVG object>"
      ]
     },
     "execution_count": 26,
     "metadata": {},
     "output_type": "execute_result"
    }
   ],
   "source": [
    "from IPython.display import SVG\n",
    "from keras.utils.vis_utils import model_to_dot\n",
    "\n",
    "SVG(model_to_dot(vae).create(prog='dot', format='svg'))"
   ]
  },
  {
   "cell_type": "code",
   "execution_count": 74,
   "metadata": {},
   "outputs": [
    {
     "data": {
      "image/png": "[encoded data removed]",
      "text/plain": [
       "<matplotlib.figure.Figure at 0x118136210>"
      ]
     },
     "metadata": {},
     "output_type": "display_data"
    }
   ],
   "source": [
    "fig, fig_ax = plt.subplots(nrows=2, ncols=8, figsize=(12,3))\n",
    "for i in range(8):\n",
    "    random_image = mnist.test.images[np.random.randint(0, 10000, 1), :]\n",
    "    plt.subplot(2,8,i+1)\n",
    "    plt.imshow(random_image.reshape((28,28)), cmap='gray')\n",
    "    plt.gca().set_xticks([])\n",
    "    plt.gca().set_yticks([])\n",
    "    \n",
    "    plt.subplot(2,8,i+9)\n",
    "    plt.imshow(vae.predict(random_image).reshape((28,28)), cmap='gray')\n",
    "    plt.gca().set_xticks([])\n",
    "    plt.gca().set_yticks([])"
   ]
  },
  {
   "cell_type": "code",
   "execution_count": 38,
   "metadata": {},
   "outputs": [
    {
     "data": {
      "text/plain": [
       "[]"
      ]
     },
     "execution_count": 38,
     "metadata": {},
     "output_type": "execute_result"
    },
    {
     "data": {
      "image/png": "[encoded data removed]",
      "text/plain": [
       "<matplotlib.figure.Figure at 0x1233f5cd0>"
      ]
     },
     "metadata": {},
     "output_type": "display_data"
    }
   ],
   "source": [
    "z_sample = np.random.normal(size=(1, encoding_dim))\n",
    "plt.imshow(decoder.predict(z_sample).reshape((28,28)), cmap='gray')\n",
    "plt.gca().set_xticks([])\n",
    "plt.gca().set_yticks([])"
   ]
  },
  {
   "cell_type": "code",
   "execution_count": 40,
   "metadata": {
    "collapsed": true
   },
   "outputs": [],
   "source": [
    "n = 15\n",
    "digit_size = 28\n",
    "grid_x = scipy.stats.norm.ppf(np.linspace(0.05, 0.95, n))\n",
    "grid_y = scipy.stats.norm.ppf(np.linspace(0.05, 0.95, n))"
   ]
  },
  {
   "cell_type": "code",
   "execution_count": null,
   "metadata": {
    "collapsed": true
   },
   "outputs": [],
   "source": [
    "figure = np.zeros((digit_size * n, digit_size * n))\n",
    "for i, yi in enumerate(grid_y):\n",
    "    for j, xj in enumerate(grid_x):\n",
    "#         z_sample = np.array([[xj, yi]])\n",
    "        z_sample = np.concatenate([np.repeat(grid_x[1], encoding_dim/2), np.repeat(grid_x[-1], encoding_dim/2)])\n",
    "        x_decoded = decoder.predict(z_sample)[0]\n",
    "        digit = x_decoded.reshape(digit_size, digit_size)\n",
    "        figure[i*digit_size : (i+1)*digit_size,\n",
    "               j*digit_size : (j+1)*digit_size] = digit"
   ]
  },
  {
   "cell_type": "code",
   "execution_count": null,
   "metadata": {
    "collapsed": true
   },
   "outputs": [],
   "source": []
  }
 ],
 "metadata": {
  "kernelspec": {
   "display_name": "ml_env",
   "language": "python",
   "name": "ml_env"
  },
  "language_info": {
   "codemirror_mode": {
    "name": "ipython",
    "version": 2
   },
   "file_extension": ".py",
   "mimetype": "text/x-python",
   "name": "python",
   "nbconvert_exporter": "python",
   "pygments_lexer": "ipython2",
   "version": "2.7.10"
  }
 },
 "nbformat": 4,
 "nbformat_minor": 2
}
