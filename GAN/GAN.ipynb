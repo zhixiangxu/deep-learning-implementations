{
 "cells": [
  {
   "cell_type": "code",
   "execution_count": 1,
   "metadata": {
    "collapsed": true
   },
   "outputs": [],
   "source": [
    "import tensorflow as tf\n",
    "from tensorflow.examples.tutorials.mnist import input_data"
   ]
  },
  {
   "cell_type": "code",
   "execution_count": 2,
   "metadata": {
    "collapsed": true
   },
   "outputs": [],
   "source": [
    "import numpy as np"
   ]
  },
  {
   "cell_type": "code",
   "execution_count": 3,
   "metadata": {
    "collapsed": true
   },
   "outputs": [],
   "source": [
    "import matplotlib\n",
    "matplotlib.use('AGG')\n",
    "import matplotlib.pyplot as plt\n",
    "import seaborn as sns\n",
    "sns.set_style(\"white\") \n",
    "\n",
    "# display plots in this notebook\n",
    "%matplotlib inline"
   ]
  },
  {
   "cell_type": "markdown",
   "metadata": {},
   "source": [
    "## use fully connected layer only"
   ]
  },
  {
   "cell_type": "code",
   "execution_count": 4,
   "metadata": {},
   "outputs": [
    {
     "name": "stdout",
     "output_type": "stream",
     "text": [
      "Extracting MNIST_data/train-images-idx3-ubyte.gz\n",
      "Extracting MNIST_data/train-labels-idx1-ubyte.gz\n",
      "Extracting MNIST_data/t10k-images-idx3-ubyte.gz\n",
      "Extracting MNIST_data/t10k-labels-idx1-ubyte.gz\n"
     ]
    }
   ],
   "source": [
    "from tensorflow.examples.tutorials.mnist import input_data\n",
    "mnist = input_data.read_data_sets(\"MNIST_data/\", one_hot=True)"
   ]
  },
  {
   "cell_type": "code",
   "execution_count": null,
   "metadata": {
    "collapsed": true
   },
   "outputs": [],
   "source": [
    "X_dim = mnist.train.images.shape[1]\n",
    "y_dim = mnist.train.labels.shape[1]\n",
    "Z_dim = 100\n",
    "h_dim = 128\n",
    "batch_size = 128"
   ]
  },
  {
   "cell_type": "code",
   "execution_count": 5,
   "metadata": {
    "collapsed": true
   },
   "outputs": [],
   "source": [
    "X = tf.placeholder(tf.float32, shape=[None, X_dim], name='X')"
   ]
  },
  {
   "cell_type": "code",
   "execution_count": 6,
   "metadata": {
    "collapsed": true
   },
   "outputs": [],
   "source": [
    "with tf.variable_scope('D') as scope:\n",
    "    D_W1 = tf.get_variable('W1', shape=[X_dim, h_dim], initializer=tf.contrib.layers.xavier_initializer())\n",
    "    D_b1 = tf.get_variable('b1', shape=[h_dim], initializer=tf.zeros_initializer())\n",
    "    D_W2 = tf.get_variable('W2', shape=[h_dim, 1], initializer=tf.contrib.layers.xavier_initializer())\n",
    "    D_b2 = tf.get_variable('b2', shape=[1], initializer=tf.zeros_initializer())"
   ]
  },
  {
   "cell_type": "code",
   "execution_count": 7,
   "metadata": {
    "collapsed": true
   },
   "outputs": [],
   "source": [
    "var_D = [D_W1, D_b1, D_W2, D_b2]"
   ]
  },
  {
   "cell_type": "code",
   "execution_count": 8,
   "metadata": {
    "collapsed": true
   },
   "outputs": [],
   "source": [
    "Z = tf.placeholder(tf.float32, shape=[None, Z_dim], name='Z')"
   ]
  },
  {
   "cell_type": "code",
   "execution_count": 9,
   "metadata": {
    "collapsed": true
   },
   "outputs": [],
   "source": [
    "with tf.variable_scope('G') as scope:\n",
    "    G_W1 = tf.get_variable('W1', shape=[Z_dim, h_dim], initializer=tf.contrib.layers.xavier_initializer())\n",
    "    G_b1 = tf.get_variable('b1', shape=[h_dim], initializer=tf.zeros_initializer())\n",
    "    G_W2 = tf.get_variable('W2', shape=[h_dim, X_dim], initializer=tf.contrib.layers.xavier_initializer())\n",
    "    G_b2 = tf.get_variable('b2', shape=[X_dim], initializer=tf.zeros_initializer())"
   ]
  },
  {
   "cell_type": "code",
   "execution_count": 10,
   "metadata": {
    "collapsed": true
   },
   "outputs": [],
   "source": [
    "var_G = [G_W1, G_b1, G_W2, G_b2]"
   ]
  },
  {
   "cell_type": "code",
   "execution_count": 11,
   "metadata": {
    "collapsed": true
   },
   "outputs": [],
   "source": [
    "def sample_Z(m, n):\n",
    "    return np.random.uniform(-1, 1, size=[m, n])"
   ]
  },
  {
   "cell_type": "code",
   "execution_count": 12,
   "metadata": {
    "collapsed": true
   },
   "outputs": [],
   "source": [
    "def generator(z):\n",
    "    G_h1 = tf.nn.relu(tf.matmul(z, G_W1) + G_b1)\n",
    "    G_logit = tf.matmul(G_h1, G_W2) + G_b2\n",
    "    G_prob = tf.nn.sigmoid(G_logit)\n",
    "    \n",
    "    return G_prob"
   ]
  },
  {
   "cell_type": "code",
   "execution_count": 13,
   "metadata": {
    "collapsed": true
   },
   "outputs": [],
   "source": [
    "def discriminator(x):\n",
    "    D_h1 = tf.nn.relu(tf.matmul(x, D_W1) + D_b1)\n",
    "    D_logit = tf.matmul(D_h1, D_W2) + D_b2\n",
    "    D_prob = tf.nn.sigmoid(D_logit)\n",
    "    \n",
    "    return D_prob, D_logit"
   ]
  },
  {
   "cell_type": "code",
   "execution_count": 14,
   "metadata": {
    "collapsed": true
   },
   "outputs": [],
   "source": [
    "G_sample = generator(Z)\n",
    "D_prob_real, D_logit_real = discriminator(X)\n",
    "D_prob_fake, D_logit_fake = discriminator(G_sample)"
   ]
  },
  {
   "cell_type": "code",
   "execution_count": 15,
   "metadata": {
    "collapsed": true
   },
   "outputs": [],
   "source": [
    "D_loss_real = tf.reduce_mean(tf.nn.sigmoid_cross_entropy_with_logits(logits=D_logit_real, labels=tf.ones_like(D_logit_real)))\n",
    "D_loss_fake = tf.reduce_mean(tf.nn.sigmoid_cross_entropy_with_logits(logits=D_logit_fake, labels=tf.zeros_like(D_logit_fake)))\n",
    "\n",
    "D_loss = D_loss_real + D_loss_fake"
   ]
  },
  {
   "cell_type": "code",
   "execution_count": 16,
   "metadata": {
    "collapsed": true
   },
   "outputs": [],
   "source": [
    "G_loss = tf.reduce_mean(tf.nn.sigmoid_cross_entropy_with_logits(logits=D_logit_fake, labels=tf.ones_like(D_logit_fake)))"
   ]
  },
  {
   "cell_type": "code",
   "execution_count": 17,
   "metadata": {
    "collapsed": true
   },
   "outputs": [],
   "source": [
    "D_solver = tf.train.AdamOptimizer().minimize(D_loss, var_list=var_D)"
   ]
  },
  {
   "cell_type": "code",
   "execution_count": 18,
   "metadata": {
    "collapsed": true
   },
   "outputs": [],
   "source": [
    "G_solver = tf.train.AdamOptimizer().minimize(G_loss, var_list=var_G)"
   ]
  },
  {
   "cell_type": "code",
   "execution_count": 36,
   "metadata": {
    "scrolled": true
   },
   "outputs": [
    {
     "name": "stdout",
     "output_type": "stream",
     "text": [
      "Iter: 0\n",
      "D loss: 1.828\n",
      "G loss: 1.244\n",
      "Iter: 1000\n",
      "D loss: 0.05881\n",
      "G loss: 4.585\n",
      "Iter: 2000\n",
      "D loss: 0.09512\n",
      "G loss: 4.38\n",
      "Iter: 3000\n",
      "D loss: 0.07322\n",
      "G loss: 5.015\n",
      "Iter: 4000\n",
      "D loss: 0.144\n",
      "G loss: 6.019\n",
      "Iter: 5000\n",
      "D loss: 0.2726\n",
      "G loss: 5.88\n",
      "Iter: 6000\n",
      "D loss: 0.2928\n",
      "G loss: 3.497\n",
      "Iter: 7000\n",
      "D loss: 0.4343\n",
      "G loss: 3.417\n",
      "Iter: 8000\n",
      "D loss: 0.5618\n",
      "G loss: 3.666\n",
      "Iter: 9000\n",
      "D loss: 0.4869\n",
      "G loss: 3.179\n",
      "Iter: 10000\n",
      "D loss: 0.5147\n",
      "G loss: 3.195\n",
      "Iter: 11000\n",
      "D loss: 0.5867\n",
      "G loss: 2.74\n",
      "Iter: 12000\n",
      "D loss: 0.6305\n",
      "G loss: 2.567\n",
      "Iter: 13000\n",
      "D loss: 0.7131\n",
      "G loss: 2.733\n",
      "Iter: 14000\n",
      "D loss: 0.7291\n",
      "G loss: 2.065\n",
      "Iter: 15000\n",
      "D loss: 0.5009\n",
      "G loss: 2.289\n",
      "Iter: 16000\n",
      "D loss: 0.7098\n",
      "G loss: 2.288\n",
      "Iter: 17000\n",
      "D loss: 0.6796\n",
      "G loss: 2.185\n",
      "Iter: 18000\n",
      "D loss: 0.7165\n",
      "G loss: 2.093\n",
      "Iter: 19000\n",
      "D loss: 0.7554\n",
      "G loss: 2.03\n",
      "Iter: 20000\n",
      "D loss: 0.7911\n",
      "G loss: 1.882\n",
      "Iter: 21000\n",
      "D loss: 0.7152\n",
      "G loss: 1.616\n",
      "Iter: 22000\n",
      "D loss: 0.7818\n",
      "G loss: 2.18\n",
      "Iter: 23000\n",
      "D loss: 0.7586\n",
      "G loss: 2.374\n",
      "Iter: 24000\n",
      "D loss: 0.6662\n",
      "G loss: 1.893\n",
      "Iter: 25000\n",
      "D loss: 0.7004\n",
      "G loss: 1.998\n",
      "Iter: 26000\n",
      "D loss: 0.7071\n",
      "G loss: 1.676\n",
      "Iter: 27000\n",
      "D loss: 0.6524\n",
      "G loss: 1.873\n",
      "Iter: 28000\n",
      "D loss: 0.6891\n",
      "G loss: 2.031\n",
      "Iter: 29000\n",
      "D loss: 0.6586\n",
      "G loss: 2.146\n",
      "Iter: 30000\n",
      "D loss: 0.7661\n",
      "G loss: 2.27\n",
      "Iter: 31000\n",
      "D loss: 0.6668\n",
      "G loss: 2.2\n",
      "Iter: 32000\n",
      "D loss: 0.5971\n",
      "G loss: 2.487\n",
      "Iter: 33000\n",
      "D loss: 0.7754\n",
      "G loss: 2.61\n",
      "Iter: 34000\n",
      "D loss: 0.5885\n",
      "G loss: 2.394\n",
      "Iter: 35000\n",
      "D loss: 0.6454\n",
      "G loss: 2.422\n",
      "Iter: 36000\n",
      "D loss: 0.5614\n",
      "G loss: 2.472\n",
      "Iter: 37000\n",
      "D loss: 0.6788\n",
      "G loss: 2.286\n",
      "Iter: 38000\n",
      "D loss: 0.5887\n",
      "G loss: 2.66\n",
      "Iter: 39000\n",
      "D loss: 0.5858\n",
      "G loss: 2.192\n",
      "Iter: 40000\n",
      "D loss: 0.6296\n",
      "G loss: 2.268\n",
      "Iter: 41000\n",
      "D loss: 0.7169\n",
      "G loss: 2.126\n",
      "Iter: 42000\n",
      "D loss: 0.4622\n",
      "G loss: 2.787\n",
      "Iter: 43000\n",
      "D loss: 0.6836\n",
      "G loss: 2.521\n",
      "Iter: 44000\n",
      "D loss: 0.7559\n",
      "G loss: 2.045\n",
      "Iter: 45000\n",
      "D loss: 0.6715\n",
      "G loss: 2.133\n",
      "Iter: 46000\n",
      "D loss: 0.5894\n",
      "G loss: 2.491\n",
      "Iter: 47000\n",
      "D loss: 0.6751\n",
      "G loss: 2.134\n",
      "Iter: 48000\n",
      "D loss: 0.5348\n",
      "G loss: 2.525\n",
      "Iter: 49000\n",
      "D loss: 0.7145\n",
      "G loss: 2.469\n",
      "Iter: 50000\n",
      "D loss: 0.7613\n",
      "G loss: 2.349\n",
      "Iter: 51000\n",
      "D loss: 0.5329\n",
      "G loss: 2.354\n",
      "Iter: 52000\n",
      "D loss: 0.5537\n",
      "G loss: 2.476\n",
      "Iter: 53000\n",
      "D loss: 0.5795\n",
      "G loss: 2.119\n",
      "Iter: 54000\n",
      "D loss: 0.6286\n",
      "G loss: 2.384\n",
      "Iter: 55000\n",
      "D loss: 0.6179\n",
      "G loss: 2.017\n",
      "Iter: 56000\n",
      "D loss: 0.6516\n",
      "G loss: 2.256\n",
      "Iter: 57000\n",
      "D loss: 0.6025\n",
      "G loss: 2.239\n",
      "Iter: 58000\n",
      "D loss: 0.6795\n",
      "G loss: 2.036\n",
      "Iter: 59000\n",
      "D loss: 0.6221\n",
      "G loss: 2.36\n",
      "Iter: 60000\n",
      "D loss: 0.6028\n",
      "G loss: 2.455\n",
      "Iter: 61000\n",
      "D loss: 0.6179\n",
      "G loss: 2.488\n",
      "Iter: 62000\n",
      "D loss: 0.4775\n",
      "G loss: 2.253\n",
      "Iter: 63000\n",
      "D loss: 0.6053\n",
      "G loss: 2.396\n",
      "Iter: 64000\n",
      "D loss: 0.5802\n",
      "G loss: 2.178\n",
      "Iter: 65000\n",
      "D loss: 0.6096\n",
      "G loss: 2.133\n",
      "Iter: 66000\n",
      "D loss: 0.754\n",
      "G loss: 2.435\n",
      "Iter: 67000\n",
      "D loss: 0.7304\n",
      "G loss: 2.117\n",
      "Iter: 68000\n",
      "D loss: 0.5612\n",
      "G loss: 2.426\n",
      "Iter: 69000\n",
      "D loss: 0.5634\n",
      "G loss: 2.276\n",
      "Iter: 70000\n",
      "D loss: 0.5489\n",
      "G loss: 2.255\n",
      "Iter: 71000\n",
      "D loss: 0.647\n",
      "G loss: 2.101\n",
      "Iter: 72000\n",
      "D loss: 0.6435\n",
      "G loss: 2.211\n",
      "Iter: 73000\n",
      "D loss: 0.5682\n",
      "G loss: 2.35\n",
      "Iter: 74000\n",
      "D loss: 0.4913\n",
      "G loss: 2.323\n",
      "Iter: 75000\n",
      "D loss: 0.5707\n",
      "G loss: 2.658\n",
      "Iter: 76000\n",
      "D loss: 0.5485\n",
      "G loss: 2.353\n",
      "Iter: 77000\n",
      "D loss: 0.5832\n",
      "G loss: 2.171\n",
      "Iter: 78000\n",
      "D loss: 0.5809\n",
      "G loss: 2.37\n",
      "Iter: 79000\n",
      "D loss: 0.5486\n",
      "G loss: 2.334\n",
      "Iter: 80000\n",
      "D loss: 0.5165\n",
      "G loss: 2.155\n",
      "Iter: 81000\n",
      "D loss: 0.5631\n",
      "G loss: 2.341\n",
      "Iter: 82000\n",
      "D loss: 0.5813\n",
      "G loss: 2.415\n",
      "Iter: 83000\n",
      "D loss: 0.6398\n",
      "G loss: 2.189\n",
      "Iter: 84000\n",
      "D loss: 0.5226\n",
      "G loss: 2.376\n",
      "Iter: 85000\n",
      "D loss: 0.7\n",
      "G loss: 2.193\n",
      "Iter: 86000\n",
      "D loss: 0.5279\n",
      "G loss: 2.508\n",
      "Iter: 87000\n",
      "D loss: 0.7671\n",
      "G loss: 2.609\n",
      "Iter: 88000\n",
      "D loss: 0.5461\n",
      "G loss: 2.119\n",
      "Iter: 89000\n",
      "D loss: 0.5005\n",
      "G loss: 2.37\n",
      "Iter: 90000\n",
      "D loss: 0.6123\n",
      "G loss: 2.17\n",
      "Iter: 91000\n",
      "D loss: 0.5155\n",
      "G loss: 2.246\n",
      "Iter: 92000\n",
      "D loss: 0.5144\n",
      "G loss: 2.212\n",
      "Iter: 93000\n",
      "D loss: 0.5832\n",
      "G loss: 2.264\n",
      "Iter: 94000\n",
      "D loss: 0.5828\n",
      "G loss: 2.6\n",
      "Iter: 95000\n",
      "D loss: 0.6221\n",
      "G loss: 2.19\n",
      "Iter: 96000\n",
      "D loss: 0.5092\n",
      "G loss: 2.158\n",
      "Iter: 97000\n",
      "D loss: 0.4523\n",
      "G loss: 2.676\n",
      "Iter: 98000\n",
      "D loss: 0.4953\n",
      "G loss: 2.45\n",
      "Iter: 99000\n",
      "D loss: 0.6876\n",
      "G loss: 2.264\n"
     ]
    }
   ],
   "source": [
    "saver = tf.train.Saver(max_to_keep=5)\n",
    "\n",
    "samples_dict = {}\n",
    "with tf.Session() as sess:\n",
    "    sess.run(tf.global_variables_initializer())\n",
    "    for i in range(100000):\n",
    "        if i % 1000 == 0:\n",
    "            n_samples = 16\n",
    "            samples = sess.run(G_sample, feed_dict={Z: sample_Z(n_samples, Z_dim)})\n",
    "            samples_dict[i] = samples\n",
    "        \n",
    "        X_mb, _ = mnist.train.next_batch(batch_size)\n",
    "        _, D_loss_curr = sess.run([D_solver, D_loss], feed_dict={X: X_mb, Z: sample_Z(batch_size, Z_dim)})\n",
    "        _, G_loss_curr = sess.run([G_solver, G_loss], feed_dict={Z: sample_Z(batch_size, Z_dim)})\n",
    "        \n",
    "        if i % 1000 == 0:\n",
    "            print \"Iter: {}\".format(i)\n",
    "            print \"D loss: {:.4}\".format(D_loss_curr)\n",
    "            print \"G loss: {:.4}\".format(G_loss_curr)\n",
    "            \n",
    "            saver.save(sess, 'save/GAN/GAN', global_step=i)"
   ]
  },
  {
   "cell_type": "code",
   "execution_count": null,
   "metadata": {
    "collapsed": true
   },
   "outputs": [],
   "source": []
  },
  {
   "cell_type": "code",
   "execution_count": 41,
   "metadata": {},
   "outputs": [
    {
     "data": {
      "text/plain": [
       "<matplotlib.image.AxesImage at 0x11c8fd7d0>"
      ]
     },
     "execution_count": 41,
     "metadata": {},
     "output_type": "execute_result"
    },
    {
     "data": {
      "image/png": "[encoded data removed]",
      "text/plain": [
       "<matplotlib.figure.Figure at 0x11c8aa050>"
      ]
     },
     "metadata": {},
     "output_type": "display_data"
    }
   ],
   "source": [
    "plt.imshow(samples_dict[99000][5,:].reshape((28,28)), cmap='gray')"
   ]
  },
  {
   "cell_type": "code",
   "execution_count": 24,
   "metadata": {},
   "outputs": [
    {
     "data": {
      "text/plain": [
       "<matplotlib.image.AxesImage at 0x117c81890>"
      ]
     },
     "execution_count": 24,
     "metadata": {},
     "output_type": "execute_result"
    },
    {
     "data": {
      "image/png": "[encoded data removed]",
      "text/plain": [
       "<matplotlib.figure.Figure at 0x116eb9950>"
      ]
     },
     "metadata": {},
     "output_type": "display_data"
    }
   ],
   "source": [
    "plt.imshow(X_mb[0,:].reshape((28,28)), cmap='gray')"
   ]
  }
 ],
 "metadata": {
  "kernelspec": {
   "display_name": "ml_env",
   "language": "python",
   "name": "ml_env"
  },
  "language_info": {
   "codemirror_mode": {
    "name": "ipython",
    "version": 2
   },
   "file_extension": ".py",
   "mimetype": "text/x-python",
   "name": "python",
   "nbconvert_exporter": "python",
   "pygments_lexer": "ipython2",
   "version": "2.7.10"
  }
 },
 "nbformat": 4,
 "nbformat_minor": 2
}
